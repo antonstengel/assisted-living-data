{
 "cells": [
  {
   "cell_type": "markdown",
   "source": [
    "# Notebook to replicate 2018 ALF study table"
   ],
   "metadata": {}
  },
  {
   "cell_type": "code",
   "execution_count": 447,
   "source": [
    "import numpy as np\n",
    "import numpy.random as npr\n",
    "import pandas as pd\n",
    "\n",
    "import json\n",
    "import requests\n",
    "\n",
    "import pickle\n",
    "\n",
    "import time\n",
    "\n",
    "import matplotlib\n",
    "import matplotlib.pyplot as plt\n",
    "\n",
    "import glob\n",
    "import os"
   ],
   "outputs": [],
   "metadata": {}
  },
  {
   "cell_type": "markdown",
   "source": [
    "## Importing"
   ],
   "metadata": {}
  },
  {
   "cell_type": "code",
   "execution_count": 448,
   "source": [
    "df = pd.read_csv('../alf-datasets/national/national-dataset-48states-with-coords-and-county-8-28-21.csv')"
   ],
   "outputs": [],
   "metadata": {}
  },
  {
   "cell_type": "code",
   "execution_count": 449,
   "source": [
    "path = \"../alf-datasets/national/county-data/\"\n",
    "# test = pd.read_csv()"
   ],
   "outputs": [],
   "metadata": {}
  },
  {
   "cell_type": "code",
   "execution_count": 450,
   "source": [
    "# gets county names, state, fips code, etc...\n",
    "county_basic_info_df = pd.read_csv(glob.glob(os.path.join(path, '*'))[0]).iloc[:,:4]\n",
    "\n",
    "# gets info for each dataset in county-data folder\n",
    "county_dfs = pd.concat([pd.read_csv(loc).iloc[:,4] for loc in glob.glob(os.path.join(path, '*'))], axis=1)\n",
    "\n",
    "county_df = pd.concat([county_basic_info_df, county_dfs], axis=1)\n",
    "\n",
    "county_df['Formatted FIPS'] = county_df['FIPS Code'].astype(str).str.zfill(5)"
   ],
   "outputs": [],
   "metadata": {}
  },
  {
   "cell_type": "code",
   "execution_count": 451,
   "source": [
    "# county_df"
   ],
   "outputs": [],
   "metadata": {}
  },
  {
   "cell_type": "markdown",
   "source": [
    "## Calculating ALF penetration and separating zero and non-zero ALF penetration counties"
   ],
   "metadata": {}
  },
  {
   "cell_type": "code",
   "execution_count": 452,
   "source": [
    "# dictionary of 65+ population per county FIPS\n",
    "county_pop_dict = dict(zip(county_df['Formatted FIPS'], county_df['Estimated number of people 65 or older, between 2015-2019.']))\n",
    "\n",
    "# calculating ALF penetration and adding to county_df\n",
    "county_df['ALF Penetration'] = [1000 * df[df['County FIPS'] == float(fips)]['Capacity'].sum() / county_pop_dict[fips] if fips in county_pop_dict and fips != '00nan' else 0 for fips in county_df['Formatted FIPS']]"
   ],
   "outputs": [],
   "metadata": {}
  },
  {
   "cell_type": "code",
   "execution_count": 453,
   "source": [
    "print('There are {} counties total'.format(county_df.shape[0]))"
   ],
   "outputs": [
    {
     "output_type": "stream",
     "name": "stdout",
     "text": [
      "There are 3245 counties total\n"
     ]
    }
   ],
   "metadata": {}
  },
  {
   "cell_type": "code",
   "execution_count": 454,
   "source": [
    "county_df_non_zero = county_df[~county_df['ALF Penetration'].isna()]\n",
    "county_df_non_zero = county_df_non_zero[county_df_non_zero['ALF Penetration'] != 0]\n",
    "\n",
    "county_df_zero = county_df[county_df['ALF Penetration'] == 0]"
   ],
   "outputs": [],
   "metadata": {}
  },
  {
   "cell_type": "code",
   "execution_count": 455,
   "source": [
    "print('There are {} counties with non-zero ALF penetration'.format(county_df_non_zero.shape[0]))\n",
    "print('There are {} counties 0 ALF penetration'.format(county_df_zero.shape[0]))"
   ],
   "outputs": [
    {
     "output_type": "stream",
     "name": "stdout",
     "text": [
      "There are 1846 counties with non-zero ALF penetration\n",
      "There are 1385 counties 0 ALF penetration\n"
     ]
    }
   ],
   "metadata": {}
  },
  {
   "cell_type": "markdown",
   "source": [
    "## Caluclating quartiles"
   ],
   "metadata": {}
  },
  {
   "cell_type": "code",
   "execution_count": 456,
   "source": [
    "quartiles = np.quantile(county_df_non_zero['ALF Penetration'].values, [0, 1/4, 2/4, 3/4])\n",
    "quartiles\n",
    "\n"
   ],
   "outputs": [
    {
     "output_type": "execute_result",
     "data": {
      "text/plain": [
       "array([ 0.06235969, 12.06632066, 21.08905164, 31.74016622])"
      ]
     },
     "metadata": {},
     "execution_count": 456
    }
   ],
   "metadata": {}
  },
  {
   "cell_type": "markdown",
   "source": [
    "## Calculating averages and std per quartile"
   ],
   "metadata": {}
  },
  {
   "cell_type": "code",
   "execution_count": 469,
   "source": [
    "# county_df_zero.shape\n",
    "#county_df_non_zero[county_df_non_zero['ALF Penetration'].between(quartiles[0], quartiles[1])].shape\n",
    "# county_df_non_zero[county_df_non_zero['ALF Penetration'].between(quartiles[1], quartiles[2])].shape\n",
    "# county_df_non_zero[county_df_non_zero['ALF Penetration'].between(quartiles[2], quartiles[3])].shape\n",
    "# county_df_non_zero[county_df_non_zero['ALF Penetration'] > quartiles[3]].shape"
   ],
   "outputs": [],
   "metadata": {}
  },
  {
   "cell_type": "code",
   "execution_count": 458,
   "source": [
    "names = county_df_non_zero[county_df_non_zero['ALF Penetration'] > quartiles[3]].mean().index.values"
   ],
   "outputs": [],
   "metadata": {}
  },
  {
   "cell_type": "code",
   "execution_count": 459,
   "source": [
    "a1, a2 = county_df_zero.mean(), county_df_zero.std()\n",
    "b1, b2 = county_df_non_zero[county_df_non_zero['ALF Penetration'].between(quartiles[0], quartiles[1])].mean(), county_df_non_zero[county_df_non_zero['ALF Penetration'].between(quartiles[0], quartiles[1])].std()\n",
    "c1, c2 = county_df_non_zero[county_df_non_zero['ALF Penetration'].between(quartiles[1], quartiles[2])].mean(), county_df_non_zero[county_df_non_zero['ALF Penetration'].between(quartiles[1], quartiles[2])].std()\n",
    "d1, d2 = county_df_non_zero[county_df_non_zero['ALF Penetration'].between(quartiles[2], quartiles[3])].mean(), county_df_non_zero[county_df_non_zero['ALF Penetration'].between(quartiles[2], quartiles[3])].std()\n",
    "e1, e2 = county_df_non_zero[county_df_non_zero['ALF Penetration'] > quartiles[3]].mean(), county_df_non_zero[county_df_non_zero['ALF Penetration'] > quartiles[3]].std()\n"
   ],
   "outputs": [],
   "metadata": {}
  },
  {
   "cell_type": "markdown",
   "source": [
    "## Putting data into table and storing it"
   ],
   "metadata": {}
  },
  {
   "cell_type": "code",
   "execution_count": 460,
   "source": [
    "all_quartile_columns = [a1,a2,b1,b2,c1,c2,d1,d2,e1,e2]\n",
    "all_quartile_columns_cleaned = [col.values.reshape(1,-1) for col in all_quartile_columns]"
   ],
   "outputs": [],
   "metadata": {}
  },
  {
   "cell_type": "code",
   "execution_count": 461,
   "source": [
    "table = pd.DataFrame(np.concatenate((all_quartile_columns_cleaned)).T, index = names)"
   ],
   "outputs": [],
   "metadata": {}
  },
  {
   "cell_type": "code",
   "execution_count": 462,
   "source": [
    "table.to_csv('../alf-datasets/national/replicated-table-raw.csv')"
   ],
   "outputs": [],
   "metadata": {}
  }
 ],
 "metadata": {
  "orig_nbformat": 4,
  "language_info": {
   "name": "python",
   "version": "3.9.4",
   "mimetype": "text/x-python",
   "codemirror_mode": {
    "name": "ipython",
    "version": 3
   },
   "pygments_lexer": "ipython3",
   "nbconvert_exporter": "python",
   "file_extension": ".py"
  },
  "kernelspec": {
   "name": "python3",
   "display_name": "Python 3.9.4 64-bit ('geo': conda)"
  },
  "interpreter": {
   "hash": "ed3c19fb29db8502139275e8ca06ed6db1b431bdd54a2bae8f0ae0c26a8f3377"
  }
 },
 "nbformat": 4,
 "nbformat_minor": 2
}