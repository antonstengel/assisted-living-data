{
 "metadata": {
  "language_info": {
   "codemirror_mode": {
    "name": "ipython",
    "version": 3
   },
   "file_extension": ".py",
   "mimetype": "text/x-python",
   "name": "python",
   "nbconvert_exporter": "python",
   "pygments_lexer": "ipython3",
   "version": "3.9.4"
  },
  "orig_nbformat": 4,
  "kernelspec": {
   "name": "python3",
   "display_name": "Python 3.9.4 64-bit ('geo': conda)"
  },
  "interpreter": {
   "hash": "ed3c19fb29db8502139275e8ca06ed6db1b431bdd54a2bae8f0ae0c26a8f3377"
  }
 },
 "nbformat": 4,
 "nbformat_minor": 2,
 "cells": [
  {
   "cell_type": "markdown",
   "source": [
    "# Cleaning data workflow\n",
    "1. Save originals as `<state-abbrev>`-alf-`<type>`-raw.csv\n",
    "2. Hand clean to `<state-abbrev>`-alf-`<type>`-hc.csv\n",
    "    - remove not used information\n",
    "    - change column names\n",
    "4. Import into pandas, clean some more\n",
    "    - bespoke changes\n",
    "        - add type information\n",
    "        - add date accessed\n",
    "        - parse weird data\n",
    "        - combine into one dataset per state\n",
    "    - use cleaner function\n",
    "        - remove duplicates\n",
    "        - remove wrong columns"
   ],
   "metadata": {}
  },
  {
   "cell_type": "code",
   "execution_count": 3,
   "source": [
    "import numpy as np\n",
    "import pandas as pd\n",
    "from bs4 import BeautifulSoup\n",
    "import unicodedata"
   ],
   "outputs": [],
   "metadata": {}
  },
  {
   "cell_type": "code",
   "execution_count": 4,
   "source": [
    "columns = ['Address',\n",
    " 'Capacity',\n",
    " 'City',\n",
    " 'County',\n",
    " 'Date Accessed',\n",
    " 'Email Address',\n",
    " 'Facility ID',\n",
    " 'Facility Name',\n",
    " 'Latitude',\n",
    " 'License Number',\n",
    " 'Licensee',\n",
    " 'Longitude',\n",
    " 'Ownership Type',\n",
    " 'Phone Number',\n",
    " 'State',\n",
    " 'State Facility Type 1 Literal',\n",
    " 'State Facility Type 2 Literal',\n",
    " 'Zip Code']\n",
    "\n",
    "cols_to_title = ['City', 'County', 'Facility Name']\n",
    "cols_to_lower = ['Email Address']\n",
    "cols_to_upper = ['Address', 'State Facility Type 1 Literal', 'State Facility Type 2 Literal', 'Ownership Type', 'Licensee']"
   ],
   "outputs": [],
   "metadata": {}
  },
  {
   "cell_type": "code",
   "execution_count": 5,
   "source": [
    "# cleaner function\n",
    "# adds state abbreviation\n",
    "# fixes capitalization\n",
    "# removes some duplicates and shows you how many remaining\n",
    "def cleaner(df, state):\n",
    "    # finding wrong columns\n",
    "    print('Extraneous columns are:\\n{}'.format(list(set(df.columns) - set(columns))))\n",
    "\n",
    "    df['State'] = state\n",
    "\n",
    "    # fixing capitalization\n",
    "    for col in df.columns:\n",
    "        if   col in cols_to_title: df[col] = df[col].str.title()\n",
    "        elif col in cols_to_lower: df[col] = df[col].str.lower()\n",
    "        elif col in cols_to_upper: df[col] = df[col].str.upper()\n",
    "\n",
    "\n",
    "    if 'License Number' in df.columns:\n",
    "        df.drop_duplicates(['Facility Name', 'License Number'], inplace=True)\n",
    "        print('{} ALFs, {} unique License Numbers, {} NA License Numbers'.format(df.shape[0], df['License Number'].unique().shape[0], df['License Number'].isna().sum()))\n",
    "    elif 'Facility ID' in df.columns:\n",
    "        df.drop_duplicates(['Facility Name', 'Facility ID'], inplace=True)\n",
    "        print('{} ALFs, {} unique Facility IDs, {} NA Facility IDs'.format(df.shape[0], df['Facility ID'].unique().shape[0], df['Facility ID'].isna().sum()))\n",
    "    else:\n",
    "        df.drop_duplicates(['Facility Name', 'Address'], inplace=True)\n",
    "        print('No License Number or Facility ID')"
   ],
   "outputs": [],
   "metadata": {}
  },
  {
   "cell_type": "code",
   "execution_count": null,
   "source": [],
   "outputs": [],
   "metadata": {}
  },
  {
   "cell_type": "markdown",
   "source": [
    "## North Dakota"
   ],
   "metadata": {}
  },
  {
   "cell_type": "code",
   "execution_count": 43,
   "source": [
    "! ls alf-datasets/nd"
   ],
   "outputs": [
    {
     "output_type": "stream",
     "name": "stdout",
     "text": [
      "nd-alf-al-hc.csv  nd-alf-al-raw.csv nd-alf-al.pdf     nd-alf-bcf.pdf\n"
     ]
    }
   ],
   "metadata": {}
  },
  {
   "cell_type": "code",
   "execution_count": 45,
   "source": [
    "df_nd_al = pd.read_csv('alf-datasets/nd/nd-alf-al-hc.csv')\n",
    "df_nd_al['State Facility Type 1 Literal'] = 'assisted living facility'\n",
    "df_nd_al['Date Accessed'] = '8/17/21'\n",
    "# ADD OTHER STUFF AND THEN CONTINUE CLEANING"
   ],
   "outputs": [],
   "metadata": {}
  },
  {
   "cell_type": "code",
   "execution_count": null,
   "source": [],
   "outputs": [],
   "metadata": {}
  },
  {
   "cell_type": "markdown",
   "source": [
    "## Mississippi"
   ],
   "metadata": {}
  },
  {
   "cell_type": "code",
   "execution_count": 976,
   "source": [
    "! ls alf-datasets/ms"
   ],
   "outputs": [
    {
     "output_type": "stream",
     "name": "stdout",
     "text": [
      "ms-alf-hc.csv  ms-alf-raw.csv ms-alf.pdf\n"
     ]
    }
   ],
   "metadata": {}
  },
  {
   "cell_type": "code",
   "execution_count": 977,
   "source": [
    "df_ms = pd.read_csv('alf-datasets/ms/ms-alf-hc.csv')"
   ],
   "outputs": [],
   "metadata": {}
  },
  {
   "cell_type": "code",
   "execution_count": 978,
   "source": [
    "df_ms['State Facility Type 1 Literal'] = 'personal care home'\n",
    "df_ms['State Facility Type 2 Literal'] = ['assisted living' if type(x) is str else 'residential living' for x in df_ms['Assisted Living']]\n",
    "df_ms['City'] = df_ms['Location'].str.split(',', expand=True)[0]\n",
    "df_ms['Zip Code'] = df_ms['Location'].str[-5:]\n",
    "df_ms['Date Accessed'] = '8/11/21'"
   ],
   "outputs": [],
   "metadata": {}
  },
  {
   "cell_type": "code",
   "execution_count": 979,
   "source": [
    "df_ms.drop(columns=['Assisted Living', 'Location'], inplace=True)"
   ],
   "outputs": [],
   "metadata": {}
  },
  {
   "cell_type": "code",
   "execution_count": 980,
   "source": [
    "cleaner(df_ms, 'MS')"
   ],
   "outputs": [
    {
     "output_type": "stream",
     "name": "stdout",
     "text": [
      "Extraneous columns are:\n",
      "[]\n",
      "No License Number or Facility ID\n"
     ]
    }
   ],
   "metadata": {}
  },
  {
   "cell_type": "code",
   "execution_count": 982,
   "source": [
    "df_ms.to_csv('alf-datasets/ms/ms-alf-final.csv', index=False)"
   ],
   "outputs": [],
   "metadata": {}
  },
  {
   "cell_type": "markdown",
   "source": [
    "## Washington DC"
   ],
   "metadata": {}
  },
  {
   "cell_type": "code",
   "execution_count": 633,
   "source": [
    "! ls alf-datasets/dc"
   ],
   "outputs": [
    {
     "output_type": "stream",
     "name": "stdout",
     "text": [
      "dc-alf-manual.csv\n"
     ]
    }
   ],
   "metadata": {}
  },
  {
   "cell_type": "code",
   "execution_count": 634,
   "source": [
    "df_dc = pd.read_csv('alf-datasets/dc/dc-alf-manual.csv')\n",
    "cleaner(df_dc, 'DC')"
   ],
   "outputs": [
    {
     "output_type": "stream",
     "name": "stdout",
     "text": [
      "Extraneous columns are:\n",
      "[]\n",
      "No License Number of Facility ID\n"
     ]
    }
   ],
   "metadata": {}
  },
  {
   "cell_type": "code",
   "execution_count": 636,
   "source": [
    "df_dc.to_csv('alf-datasets/dc/dc-alf-final.csv', index=False)"
   ],
   "outputs": [],
   "metadata": {}
  },
  {
   "cell_type": "markdown",
   "source": [
    "## Wyoming"
   ],
   "metadata": {}
  },
  {
   "cell_type": "code",
   "execution_count": 489,
   "source": [
    "# NEED TO FIGURE THIS ONE OUT\n",
    "df_wy = pd.read_csv('alf-datasets/wy/wy-alf-hc.csv')"
   ],
   "outputs": [],
   "metadata": {}
  },
  {
   "cell_type": "code",
   "execution_count": 490,
   "source": [
    "a = df_wy['Name\\nPhysical Address'].str.split('\\n', expand=True)\n",
    "# a.head(20)"
   ],
   "outputs": [],
   "metadata": {}
  },
  {
   "cell_type": "code",
   "execution_count": 491,
   "source": [
    "def wyoming_helper_function(row):\n",
    "    if row[4] is None:\n",
    "        row[4] = row[3]\n",
    "        row[3] = row[2]\n",
    "        row[2] = row[1]\n",
    "        row[1] = row[0]\n",
    "        row[0] = ''\n",
    "    return row"
   ],
   "outputs": [],
   "metadata": {}
  },
  {
   "cell_type": "code",
   "execution_count": 492,
   "source": [
    "a = a.apply(test_function, axis=1)"
   ],
   "outputs": [],
   "metadata": {}
  },
  {
   "cell_type": "code",
   "execution_count": 493,
   "source": [
    "df_wy['Facility Name'] = [x[4:] if \"dba/\" in x else x for x in a[1]]\n",
    "df_wy['Licensee'] = a[0]\n",
    "df_wy['Address'] = a[2]\n",
    "df_wy['City'] = a[3].str.split(' ', expand=True)[0]\n",
    "df_wy['Zip Code'] = a[3].str.split(' ', expand=True)[2]\n",
    "df_wy['County'] = df_wy['County\\nFiscal Year End'].str.split('\\n', expand=True)[0]\n",
    "df_wy['Capacity'] = df_wy['# of Licensed Beds'].str.split('\\n', expand=True)[0].str.split(' ', expand=True)[0]\n",
    "df_wy['Capacity'].iloc[16] = 34 # manually fixing one entry\n",
    "df_wy['Phone Number'] = df_wy['Phone\\nFax'].str.split('\\n', expand=True)[0]\n",
    "df_wy['State Facility Type 1 Literal'] = 'Assisted living facility'"
   ],
   "outputs": [],
   "metadata": {}
  },
  {
   "cell_type": "code",
   "execution_count": 494,
   "source": [
    "df_wy.drop(columns=[\"Name\\nPhysical Address\", \"Phone\\nFax\", \"County\\nFiscal Year End\", \"# of Licensed Beds\"], inplace=True)"
   ],
   "outputs": [],
   "metadata": {}
  },
  {
   "cell_type": "code",
   "execution_count": 495,
   "source": [
    "cleaner(df_wy, 'WY')"
   ],
   "outputs": [
    {
     "output_type": "stream",
     "name": "stdout",
     "text": [
      "Extraneous columns are:\n",
      "[]\n",
      "33 ALFs, 33 unique License Numbers, 0 NA License Numbers\n"
     ]
    }
   ],
   "metadata": {}
  },
  {
   "cell_type": "code",
   "execution_count": 497,
   "source": [
    "df_wy.to_csv('alf-datasets/wy/wy-alf-final.csv', index=False)"
   ],
   "outputs": [],
   "metadata": {}
  },
  {
   "cell_type": "markdown",
   "source": [
    "## Wisconsin"
   ],
   "metadata": {}
  },
  {
   "cell_type": "code",
   "execution_count": 373,
   "source": [
    "! ls alf-datasets/wi/"
   ],
   "outputs": [
    {
     "output_type": "stream",
     "name": "stdout",
     "text": [
      "wi-alf-afh-hc.csv   wi-alf-cbrf-hc.csv  wi-alf-final.csv    wi-alf-rcac-raw.csv\n",
      "wi-alf-afh-raw.csv  wi-alf-cbrf-raw.csv wi-alf-rcac-hc.csv\n"
     ]
    }
   ],
   "metadata": {}
  },
  {
   "cell_type": "code",
   "execution_count": 374,
   "source": [
    "df_wi_cbrf = pd.read_csv('alf-datasets/wi/wi-alf-cbrf-hc.csv')\n",
    "df_wi_rcac = pd.read_csv('alf-datasets/wi/wi-alf-rcac-hc.csv')\n",
    "df_wi_afh = pd.read_csv('alf-datasets/wi/wi-alf-afh-hc.csv')"
   ],
   "outputs": [],
   "metadata": {}
  },
  {
   "cell_type": "code",
   "execution_count": 375,
   "source": [
    "df_wi_cbrf['State Facility Type 1 Literal'] = 'Community-Based Residential Facility'\n",
    "df_wi_rcac['State Facility Type 1 Literal'] = 'Residential Care Apartment Complex'\n",
    "df_wi_afh['State Facility Type 1 Literal'] = 'adult family home'\n",
    "df_wi = pd.concat([df_wi_cbrf, df_wi_rcac, df_wi_afh], ignore_index=True)\n",
    "df_wi['Date Accessed'] = '7/6/21'"
   ],
   "outputs": [],
   "metadata": {}
  },
  {
   "cell_type": "code",
   "execution_count": 376,
   "source": [
    "df_wi.head()"
   ],
   "outputs": [
    {
     "output_type": "execute_result",
     "data": {
      "text/html": [
       "<div>\n",
       "<style scoped>\n",
       "    .dataframe tbody tr th:only-of-type {\n",
       "        vertical-align: middle;\n",
       "    }\n",
       "\n",
       "    .dataframe tbody tr th {\n",
       "        vertical-align: top;\n",
       "    }\n",
       "\n",
       "    .dataframe thead th {\n",
       "        text-align: right;\n",
       "    }\n",
       "</style>\n",
       "<table border=\"1\" class=\"dataframe\">\n",
       "  <thead>\n",
       "    <tr style=\"text-align: right;\">\n",
       "      <th></th>\n",
       "      <th>Facility ID</th>\n",
       "      <th>Facility Name</th>\n",
       "      <th>Address</th>\n",
       "      <th>City</th>\n",
       "      <th>State</th>\n",
       "      <th>Zip Code</th>\n",
       "      <th>Phone Number</th>\n",
       "      <th>County</th>\n",
       "      <th>Licensee</th>\n",
       "      <th>State Facility Type 2 Literal</th>\n",
       "      <th>State Facility Type 1 Literal</th>\n",
       "      <th>Capacity</th>\n",
       "      <th>Date Accessed</th>\n",
       "    </tr>\n",
       "  </thead>\n",
       "  <tbody>\n",
       "    <tr>\n",
       "      <th>0</th>\n",
       "      <td>15835</td>\n",
       "      <td>LIBERTY VILLAGE OF ADAMS</td>\n",
       "      <td>550 W LIBERTY STREET</td>\n",
       "      <td>ADAMS</td>\n",
       "      <td>WI</td>\n",
       "      <td>53910</td>\n",
       "      <td>(608) 339-9444</td>\n",
       "      <td>ADAMS</td>\n",
       "      <td>COPPERLEAF MANAGEMENT GROUP INC</td>\n",
       "      <td>CLASS CNA (NONAMBULATORY)</td>\n",
       "      <td>Community-Based Residential Facility</td>\n",
       "      <td>NaN</td>\n",
       "      <td>7/6/21</td>\n",
       "    </tr>\n",
       "    <tr>\n",
       "      <th>1</th>\n",
       "      <td>15012</td>\n",
       "      <td>BIRCH HAVEN SENIOR LIVING BEARS HOLLOW</td>\n",
       "      <td>1019 15TH AVE W</td>\n",
       "      <td>ASHLAND</td>\n",
       "      <td>WI</td>\n",
       "      <td>54806-</td>\n",
       "      <td>(715) 682-2534</td>\n",
       "      <td>ASHLAND</td>\n",
       "      <td>KELM ENTERPRISES INC</td>\n",
       "      <td>CLASS CNA (NONAMBULATORY)</td>\n",
       "      <td>Community-Based Residential Facility</td>\n",
       "      <td>NaN</td>\n",
       "      <td>7/6/21</td>\n",
       "    </tr>\n",
       "    <tr>\n",
       "      <th>2</th>\n",
       "      <td>15013</td>\n",
       "      <td>BIRCH HAVEN SENIOR LIVING EAGLES RIDGE</td>\n",
       "      <td>224 22ND AVE W</td>\n",
       "      <td>ASHLAND</td>\n",
       "      <td>WI</td>\n",
       "      <td>54806-</td>\n",
       "      <td>(715) 682-1069</td>\n",
       "      <td>ASHLAND</td>\n",
       "      <td>KELM ENTERPRISES INC</td>\n",
       "      <td>CLASS CNA (NONAMBULATORY)</td>\n",
       "      <td>Community-Based Residential Facility</td>\n",
       "      <td>NaN</td>\n",
       "      <td>7/6/21</td>\n",
       "    </tr>\n",
       "    <tr>\n",
       "      <th>3</th>\n",
       "      <td>15014</td>\n",
       "      <td>BIRCH HAVEN SENIOR LIVING FALCONS CREST</td>\n",
       "      <td>218 22ND AVE W</td>\n",
       "      <td>ASHLAND</td>\n",
       "      <td>WI</td>\n",
       "      <td>54806-</td>\n",
       "      <td>(715) 682-2775</td>\n",
       "      <td>ASHLAND</td>\n",
       "      <td>KELM ENTERPRISES INC</td>\n",
       "      <td>CLASS CNA (NONAMBULATORY)</td>\n",
       "      <td>Community-Based Residential Facility</td>\n",
       "      <td>NaN</td>\n",
       "      <td>7/6/21</td>\n",
       "    </tr>\n",
       "    <tr>\n",
       "      <th>4</th>\n",
       "      <td>15011</td>\n",
       "      <td>BIRCH HAVEN SENIOR LIVING TIMBERS EDGE</td>\n",
       "      <td>1500 10TH ST W</td>\n",
       "      <td>ASHLAND</td>\n",
       "      <td>WI</td>\n",
       "      <td>54806-</td>\n",
       "      <td>(715) 682-2506</td>\n",
       "      <td>ASHLAND</td>\n",
       "      <td>KELM ENTERPRISES INC</td>\n",
       "      <td>CLASS CNA (NONAMBULATORY)</td>\n",
       "      <td>Community-Based Residential Facility</td>\n",
       "      <td>NaN</td>\n",
       "      <td>7/6/21</td>\n",
       "    </tr>\n",
       "  </tbody>\n",
       "</table>\n",
       "</div>"
      ],
      "text/plain": [
       "   Facility ID                            Facility Name               Address  \\\n",
       "0        15835                 LIBERTY VILLAGE OF ADAMS  550 W LIBERTY STREET   \n",
       "1        15012   BIRCH HAVEN SENIOR LIVING BEARS HOLLOW       1019 15TH AVE W   \n",
       "2        15013   BIRCH HAVEN SENIOR LIVING EAGLES RIDGE        224 22ND AVE W   \n",
       "3        15014  BIRCH HAVEN SENIOR LIVING FALCONS CREST        218 22ND AVE W   \n",
       "4        15011   BIRCH HAVEN SENIOR LIVING TIMBERS EDGE        1500 10TH ST W   \n",
       "\n",
       "      City State Zip Code    Phone Number   County  \\\n",
       "0    ADAMS    WI    53910  (608) 339-9444    ADAMS   \n",
       "1  ASHLAND    WI   54806-  (715) 682-2534  ASHLAND   \n",
       "2  ASHLAND    WI   54806-  (715) 682-1069  ASHLAND   \n",
       "3  ASHLAND    WI   54806-  (715) 682-2775  ASHLAND   \n",
       "4  ASHLAND    WI   54806-  (715) 682-2506  ASHLAND   \n",
       "\n",
       "                          Licensee State Facility Type 2 Literal  \\\n",
       "0  COPPERLEAF MANAGEMENT GROUP INC     CLASS CNA (NONAMBULATORY)   \n",
       "1             KELM ENTERPRISES INC     CLASS CNA (NONAMBULATORY)   \n",
       "2             KELM ENTERPRISES INC     CLASS CNA (NONAMBULATORY)   \n",
       "3             KELM ENTERPRISES INC     CLASS CNA (NONAMBULATORY)   \n",
       "4             KELM ENTERPRISES INC     CLASS CNA (NONAMBULATORY)   \n",
       "\n",
       "          State Facility Type 1 Literal  Capacity Date Accessed  \n",
       "0  Community-Based Residential Facility       NaN        7/6/21  \n",
       "1  Community-Based Residential Facility       NaN        7/6/21  \n",
       "2  Community-Based Residential Facility       NaN        7/6/21  \n",
       "3  Community-Based Residential Facility       NaN        7/6/21  \n",
       "4  Community-Based Residential Facility       NaN        7/6/21  "
      ]
     },
     "metadata": {},
     "execution_count": 376
    }
   ],
   "metadata": {}
  },
  {
   "cell_type": "code",
   "execution_count": 377,
   "source": [
    "cleaner(df_wi, 'WI')"
   ],
   "outputs": [
    {
     "output_type": "stream",
     "name": "stdout",
     "text": [
      "Extraneous columns are:\n",
      "[]\n",
      "4061 ALFs, 4061 unique Facility IDs, 0 NA Facility IDs\n"
     ]
    }
   ],
   "metadata": {}
  },
  {
   "cell_type": "code",
   "execution_count": 378,
   "source": [
    "df_wi.to_csv('alf-datasets/wi/wi-alf-final.csv', index=False)"
   ],
   "outputs": [],
   "metadata": {}
  },
  {
   "cell_type": "markdown",
   "source": [
    "## West Virginia"
   ],
   "metadata": {}
  },
  {
   "cell_type": "code",
   "execution_count": 873,
   "source": [
    "! ls alf-datasets/wv"
   ],
   "outputs": [
    {
     "output_type": "stream",
     "name": "stdout",
     "text": [
      "wv-alf-al-raw.csv wv-alf-final.csv  wv-alf-hc.csv     wv-alf-rc-raw.csv\n"
     ]
    }
   ],
   "metadata": {}
  },
  {
   "cell_type": "code",
   "execution_count": 874,
   "source": [
    "df_wv = pd.read_csv('alf-datasets/wv/wv-alf-hc.csv')\n",
    "df_wv['Date Accessed'] = '7/6/21'\n",
    "cleaner(df_wv, 'WV')"
   ],
   "outputs": [
    {
     "output_type": "stream",
     "name": "stdout",
     "text": [
      "Extraneous columns are:\n",
      "['Medicaid', 'Medicare']\n",
      "95 ALFs, 83 unique License Numbers, 12 NA License Numbers\n"
     ]
    }
   ],
   "metadata": {}
  },
  {
   "cell_type": "code",
   "execution_count": 875,
   "source": [
    "df_wv = df_wv.drop(columns=['Medicaid', 'Medicare'])"
   ],
   "outputs": [],
   "metadata": {}
  },
  {
   "cell_type": "code",
   "execution_count": 876,
   "source": [
    "df_wv.to_csv('alf-datasets/wv/wv-alf-final.csv', index=False)"
   ],
   "outputs": [],
   "metadata": {}
  },
  {
   "cell_type": "markdown",
   "source": [
    "## Washington"
   ],
   "metadata": {}
  },
  {
   "cell_type": "code",
   "execution_count": 877,
   "source": [
    "! ls alf-datasets/wa"
   ],
   "outputs": [
    {
     "output_type": "stream",
     "name": "stdout",
     "text": [
      "wa-alf-afh-(not-currently-using).csv wa-alf-al-raw.csv\n",
      "wa-alf-al-hc.csv                     wa-alf-final.csv\n"
     ]
    }
   ],
   "metadata": {}
  },
  {
   "cell_type": "code",
   "execution_count": 878,
   "source": [
    "df_wa = pd.read_csv('alf-datasets/wa/wa-alf-al-hc.csv')\n",
    "df_wa['Date Accessed'] = '7/6/21'\n",
    "cleaner(df_wa, 'WA')"
   ],
   "outputs": [
    {
     "output_type": "stream",
     "name": "stdout",
     "text": [
      "Extraneous columns are:\n",
      "['Medicaid']\n",
      "541 ALFs, 541 unique License Numbers, 0 NA License Numbers\n"
     ]
    }
   ],
   "metadata": {}
  },
  {
   "cell_type": "code",
   "execution_count": 879,
   "source": [
    "df_wa = df_wa.drop(columns=['Medicaid'])"
   ],
   "outputs": [],
   "metadata": {}
  },
  {
   "cell_type": "code",
   "execution_count": 880,
   "source": [
    "df_wa.to_csv('alf-datasets/wa/wa-alf-final.csv', index=False)"
   ],
   "outputs": [],
   "metadata": {}
  },
  {
   "cell_type": "markdown",
   "source": [
    "## Utah"
   ],
   "metadata": {}
  },
  {
   "cell_type": "code",
   "execution_count": 370,
   "source": [
    "! ls alf-datasets/ut"
   ],
   "outputs": [
    {
     "output_type": "stream",
     "name": "stdout",
     "text": [
      "ut-alf-final.csv ut-alf-hc.csv    ut-alf-raw.csv\n"
     ]
    }
   ],
   "metadata": {}
  },
  {
   "cell_type": "code",
   "execution_count": 371,
   "source": [
    "df_ut = pd.read_csv('alf-datasets/ut/ut-alf-hc.csv')\n",
    "df_ut['Date Accessed'] = '7/6/21'\n",
    "df_ut = df_ut.rename(columns={'Zip':'Zip Code', 'State Facility Type 1 Literal':'State Facility Type 2 Literal'})\n",
    "df_ut['State Facility Type 1 Literal'] = 'assisted living facility'\n",
    "\n",
    "cleaner(df_ut, 'UT')"
   ],
   "outputs": [
    {
     "output_type": "stream",
     "name": "stdout",
     "text": [
      "Extraneous columns are:\n",
      "[]\n",
      "240 ALFs, 240 unique License Numbers, 0 NA License Numbers\n"
     ]
    }
   ],
   "metadata": {}
  },
  {
   "cell_type": "code",
   "execution_count": 372,
   "source": [
    "df_ut.to_csv('alf-datasets/ut/ut-alf-final.csv', index=False)"
   ],
   "outputs": [],
   "metadata": {}
  },
  {
   "cell_type": "markdown",
   "source": [
    "## Texas"
   ],
   "metadata": {}
  },
  {
   "cell_type": "code",
   "execution_count": 885,
   "source": [
    "! ls alf-datasets/tx"
   ],
   "outputs": [
    {
     "output_type": "stream",
     "name": "stdout",
     "text": [
      "tx-alf-final.csv tx-alf-hc.csv    tx-alf-raw.csv\n"
     ]
    }
   ],
   "metadata": {}
  },
  {
   "cell_type": "code",
   "execution_count": 886,
   "source": [
    "df_tx = pd.read_csv('alf-datasets/tx/tx-alf-hc.csv')\n",
    "df_tx['Date Accessed'] = '7/6/21'\n",
    "cleaner(df_tx, 'TX')"
   ],
   "outputs": [
    {
     "output_type": "stream",
     "name": "stdout",
     "text": [
      "Extraneous columns are:\n",
      "['Geo Location']\n",
      "2024 ALFs, 2024 unique License Numbers, 0 NA License Numbers\n"
     ]
    }
   ],
   "metadata": {}
  },
  {
   "cell_type": "code",
   "execution_count": 887,
   "source": [
    "df_tx[['Latitude', 'Longitude']] = df_tx['Geo Location'].str.split(',', expand=True)"
   ],
   "outputs": [],
   "metadata": {}
  },
  {
   "cell_type": "code",
   "execution_count": 888,
   "source": [
    "df_tx = df_tx.drop(columns=['Geo Location'])"
   ],
   "outputs": [],
   "metadata": {}
  },
  {
   "cell_type": "code",
   "execution_count": 889,
   "source": [
    "df_tx.to_csv('alf-datasets/tx/tx-alf-final.csv', index=False)"
   ],
   "outputs": [],
   "metadata": {}
  },
  {
   "cell_type": "markdown",
   "source": [
    "## Tennessee"
   ],
   "metadata": {}
  },
  {
   "cell_type": "code",
   "execution_count": 890,
   "source": [
    "! ls alf-datasets/tn"
   ],
   "outputs": [
    {
     "output_type": "stream",
     "name": "stdout",
     "text": [
      "tn-alf-ac-hc.csv  tn-alf-ac.pdf     tn-alf-rh-hc.csv  tn-alf-rh.pdf\n",
      "tn-alf-ac-raw.csv tn-alf-final.csv  tn-alf-rh-raw.csv\n"
     ]
    }
   ],
   "metadata": {}
  },
  {
   "cell_type": "code",
   "execution_count": 891,
   "source": [
    "df_tn_ac = pd.read_csv('alf-datasets/tn/tn-alf-ac-hc.csv')\n",
    "df_tn_rh = pd.read_csv('alf-datasets/tn/tn-alf-rh-hc.csv')\n",
    "\n",
    "df_tn_rh['State Facility Type 1 Literal'] = 'Residential Home for the Aged'\n",
    "df_tn_ac['State Facility Type 1 Literal'] = 'Assisted Care Living Facility'\n",
    "\n",
    "df_tn = pd.concat([df_tn_rh, df_tn_ac], ignore_index=True)\n",
    "df_tn['Date Accessed'] = '6/30/21'\n"
   ],
   "outputs": [],
   "metadata": {}
  },
  {
   "cell_type": "code",
   "execution_count": 892,
   "source": [
    "df_tn['Facility Name'] = df_tn['Facility Name'].str.replace('\\n', ' ')\n",
    "\n",
    "split = df_tn['Address'].str.split('\\n', expand=True)\n",
    "split2 = split[1].str.split(', ', expand=True)\n",
    "split3 = split2[1].str.split(' ', expand=True)\n",
    "\n",
    "df_tn['Address'] = split[0]\n",
    "df_tn['City'] = split2[0]\n",
    "df_tn['Zip Code'] = split3[1]\n",
    "df_tn['State'] = 'TN'"
   ],
   "outputs": [],
   "metadata": {}
  },
  {
   "cell_type": "code",
   "execution_count": 893,
   "source": [
    "cleaner(df_tn, 'TN')"
   ],
   "outputs": [
    {
     "output_type": "stream",
     "name": "stdout",
     "text": [
      "Extraneous columns are:\n",
      "[]\n",
      "373 ALFs, 351 unique License Numbers, 0 NA License Numbers\n"
     ]
    }
   ],
   "metadata": {}
  },
  {
   "cell_type": "code",
   "execution_count": 894,
   "source": [
    "# df_tn.sort_values(by=['License Number']).tail(30)\n",
    "# duplicate License Numbers are irrelevant"
   ],
   "outputs": [],
   "metadata": {}
  },
  {
   "cell_type": "code",
   "execution_count": 895,
   "source": [
    "df_tn.to_csv('alf-datasets/tn/tn-alf-final.csv', index=False)"
   ],
   "outputs": [],
   "metadata": {}
  },
  {
   "cell_type": "markdown",
   "source": [
    "## South Dakota"
   ],
   "metadata": {}
  },
  {
   "cell_type": "code",
   "execution_count": 896,
   "source": [
    "! ls alf-datasets/sd"
   ],
   "outputs": [
    {
     "output_type": "stream",
     "name": "stdout",
     "text": [
      "sd-alf-final.csv sd-alf-hc.csv    sd-alf-raw.csv\n"
     ]
    }
   ],
   "metadata": {}
  },
  {
   "cell_type": "code",
   "execution_count": 897,
   "source": [
    "df_sd = pd.read_csv('alf-datasets/sd/sd-alf-hc.csv')\n",
    "df_sd['Date Accessed'] = '6/30/21'\n",
    "df_sd['State Facility Type 1 Literal'] = 'Assisted Living Center'\n",
    "cleaner(df_sd, 'SD')"
   ],
   "outputs": [
    {
     "output_type": "stream",
     "name": "stdout",
     "text": [
      "Extraneous columns are:\n",
      "['City.1']\n",
      "163 ALFs, 163 unique License Numbers, 0 NA License Numbers\n"
     ]
    }
   ],
   "metadata": {}
  },
  {
   "cell_type": "code",
   "execution_count": 898,
   "source": [
    "df_sd = df_sd.drop(columns='City.1')"
   ],
   "outputs": [],
   "metadata": {}
  },
  {
   "cell_type": "code",
   "execution_count": 899,
   "source": [
    "df_sd.to_csv('alf-datasets/sd/sd-alf-final.csv', index=False)"
   ],
   "outputs": [],
   "metadata": {}
  },
  {
   "cell_type": "markdown",
   "source": [
    "## South Carolina"
   ],
   "metadata": {}
  },
  {
   "cell_type": "code",
   "execution_count": 900,
   "source": [
    "! ls alf-datasets/sc"
   ],
   "outputs": [
    {
     "output_type": "stream",
     "name": "stdout",
     "text": [
      "sc-alf-final.csv sc-alf-hc.csv    sc-alf-raw.csv\n"
     ]
    }
   ],
   "metadata": {}
  },
  {
   "cell_type": "code",
   "execution_count": 901,
   "source": [
    "df_sc = pd.read_csv('alf-datasets/sc/sc-alf-hc.csv')\n",
    "df_sc['Date Accessed'] = '6/30/21'\n",
    "df_sc['State Facility Type 1 Literal'] = 'Community Residential Care Facilities'"
   ],
   "outputs": [],
   "metadata": {}
  },
  {
   "cell_type": "code",
   "execution_count": 902,
   "source": [
    "df_sc['License Number'] = df_sc['License / Expiration'].str.split(' / ', expand=True)[0]\n",
    "df_sc['Ownership Type'] = df_sc['Ownership Type'].str.split(' / ', expand=True)[1]\n",
    "df_sc = df_sc.drop(columns=['License / Expiration'])"
   ],
   "outputs": [],
   "metadata": {}
  },
  {
   "cell_type": "code",
   "execution_count": 903,
   "source": [
    "cleaner(df_sc, 'SC')"
   ],
   "outputs": [
    {
     "output_type": "stream",
     "name": "stdout",
     "text": [
      "Extraneous columns are:\n",
      "[]\n",
      "484 ALFs, 484 unique License Numbers, 0 NA License Numbers\n"
     ]
    }
   ],
   "metadata": {}
  },
  {
   "cell_type": "code",
   "execution_count": 904,
   "source": [
    "df_sc.to_csv('alf-datasets/sc/sc-alf-final.csv', index=False)"
   ],
   "outputs": [],
   "metadata": {}
  },
  {
   "cell_type": "markdown",
   "source": [
    "## Rhode Island"
   ],
   "metadata": {}
  },
  {
   "cell_type": "code",
   "execution_count": 905,
   "source": [
    "! ls alf-datasets/ri"
   ],
   "outputs": [
    {
     "output_type": "stream",
     "name": "stdout",
     "text": [
      "ri-alf-final.csv ri-alf-hc.csv    ri-alf-raw.csv\n"
     ]
    }
   ],
   "metadata": {}
  },
  {
   "cell_type": "code",
   "execution_count": 906,
   "source": [
    "df_ri = pd.read_csv('alf-datasets/ri/ri-alf-hc.csv')\n",
    "df_ri['Date Accessed'] = '6/30/21'\n",
    "cleaner(df_ri, 'RI')"
   ],
   "outputs": [
    {
     "output_type": "stream",
     "name": "stdout",
     "text": [
      "Extraneous columns are:\n",
      "['Zip']\n",
      "65 ALFs, 65 unique License Numbers, 0 NA License Numbers\n"
     ]
    }
   ],
   "metadata": {}
  },
  {
   "cell_type": "code",
   "execution_count": 907,
   "source": [
    "df_ri = df_ri.rename(columns={'Zip':'Zip Code'})"
   ],
   "outputs": [],
   "metadata": {}
  },
  {
   "cell_type": "code",
   "execution_count": 908,
   "source": [
    "df_ri.to_csv('alf-datasets/ri/ri-alf-final.csv', index=False)"
   ],
   "outputs": [],
   "metadata": {}
  },
  {
   "cell_type": "markdown",
   "source": [
    "## Pennsylvania"
   ],
   "metadata": {}
  },
  {
   "cell_type": "code",
   "execution_count": 355,
   "source": [
    "! ls alf-datasets/pa"
   ],
   "outputs": [
    {
     "output_type": "stream",
     "name": "stdout",
     "text": [
      "pa-alf-alr-hc.csv  pa-alf-final.csv   pa-alf-pch-hc.csv\n",
      "pa-alf-alr-raw.csv pa-alf-notes.pdf   pa-alf-pch-raw.csv\n"
     ]
    }
   ],
   "metadata": {}
  },
  {
   "cell_type": "code",
   "execution_count": 356,
   "source": [
    "df_pa_pch = pd.read_csv('alf-datasets/pa/pa-alf-pch-hc.csv')\n",
    "df_pa_alr = pd.read_csv('alf-datasets/pa/pa-alf-alr-hc.csv')\n",
    "\n",
    "df_pa_pch['State Facility Type 1 Literal'] = 'Personal Care Home'\n",
    "df_pa_alr['State Facility Type 1 Literal'] = 'Assisted Living Residence'\n",
    "\n",
    "df_pa = pd.concat([df_pa_alr, df_pa_pch], ignore_index=True)\n",
    "df_pa['Date Accessed'] = '6/30/21'"
   ],
   "outputs": [],
   "metadata": {}
  },
  {
   "cell_type": "code",
   "execution_count": 357,
   "source": [
    "df_pa = df_pa.rename(columns={'Zip':'Zip Code'})"
   ],
   "outputs": [],
   "metadata": {}
  },
  {
   "cell_type": "code",
   "execution_count": 358,
   "source": [
    "cleaner(df_pa, 'PA')"
   ],
   "outputs": [
    {
     "output_type": "stream",
     "name": "stdout",
     "text": [
      "Extraneous columns are:\n",
      "[]\n",
      "1159 ALFs, 1159 unique License Numbers, 0 NA License Numbers\n"
     ]
    }
   ],
   "metadata": {}
  },
  {
   "cell_type": "code",
   "execution_count": 359,
   "source": [
    "df_pa.to_csv('alf-datasets/pa/pa-alf-final.csv', index=False)"
   ],
   "outputs": [],
   "metadata": {}
  },
  {
   "cell_type": "markdown",
   "source": [
    "## Oregon"
   ],
   "metadata": {}
  },
  {
   "cell_type": "code",
   "execution_count": 913,
   "source": [
    "! ls alf-datasets/or"
   ],
   "outputs": [
    {
     "output_type": "stream",
     "name": "stdout",
     "text": [
      "or-alf-final.csv or-alf-hc.csv    or-alf-raw.csv\n"
     ]
    }
   ],
   "metadata": {}
  },
  {
   "cell_type": "code",
   "execution_count": 914,
   "source": [
    "df_or = pd.read_csv('alf-datasets/or/or-alf-hc.csv')\n",
    "df_or['Date Accessed'] = '7/6/21'\n",
    "df_or['State Facility Type 1 Literal'] = ['Assisted Living Facility' if x == 'ALF' else 'Residential Care Facility' for x in df_or['State Facility Type 1 Literal']]\n",
    "cleaner(df_or, 'OR')"
   ],
   "outputs": [
    {
     "output_type": "stream",
     "name": "stdout",
     "text": [
      "Extraneous columns are:\n",
      "['Medicaid']\n",
      "562 ALFs, 562 unique Facility IDs, 0 NA Facility IDs\n"
     ]
    }
   ],
   "metadata": {}
  },
  {
   "cell_type": "code",
   "execution_count": 915,
   "source": [
    "df_or = df_or.drop(columns='Medicaid')"
   ],
   "outputs": [],
   "metadata": {}
  },
  {
   "cell_type": "code",
   "execution_count": 916,
   "source": [
    "df_or.to_csv('alf-datasets/or/or-alf-final.csv', index=False)"
   ],
   "outputs": [],
   "metadata": {}
  },
  {
   "cell_type": "markdown",
   "source": [
    "## Oklahoma"
   ],
   "metadata": {}
  },
  {
   "cell_type": "code",
   "execution_count": 352,
   "source": [
    "! ls alf-datasets/ok"
   ],
   "outputs": [
    {
     "output_type": "stream",
     "name": "stdout",
     "text": [
      "ok-alf-al-hc.csv  ok-alf-al.pdf     ok-alf-rc-hc.csv  ok-alf-rc.pdf\n",
      "ok-alf-al-raw.csv ok-alf-final.csv  ok-alf-rc-raw.csv\n"
     ]
    }
   ],
   "metadata": {}
  },
  {
   "cell_type": "code",
   "execution_count": 353,
   "source": [
    "df_ok_al = pd.read_csv('alf-datasets/ok/ok-alf-al-hc.csv')\n",
    "# df_ok_rc = pd.read_csv('alf-datasets/ok/ok-alf-rc-hc.csv')\n",
    "# df_ok = pd.concat([df_ok_al, df_ok_rc], ignore_index=True)\n",
    "df_ok = df_ok_al\n",
    "\n",
    "df_ok['Date Accessed'] = '7/2/21'\n",
    "cleaner(df_ok, 'OK')"
   ],
   "outputs": [
    {
     "output_type": "stream",
     "name": "stdout",
     "text": [
      "Extraneous columns are:\n",
      "[]\n",
      "189 ALFs, 189 unique Facility IDs, 0 NA Facility IDs\n"
     ]
    }
   ],
   "metadata": {}
  },
  {
   "cell_type": "code",
   "execution_count": 354,
   "source": [
    "df_ok.to_csv('alf-datasets/ok/ok-alf-final.csv', index=False)"
   ],
   "outputs": [],
   "metadata": {}
  },
  {
   "cell_type": "markdown",
   "source": [
    "## Ohio"
   ],
   "metadata": {}
  },
  {
   "cell_type": "code",
   "execution_count": 938,
   "source": [
    "! ls alf-datasets/oh"
   ],
   "outputs": [
    {
     "output_type": "stream",
     "name": "stdout",
     "text": [
      "oh-alf-final.csv oh-alf-hc.csv    oh-alf-raw.csv\n"
     ]
    }
   ],
   "metadata": {}
  },
  {
   "cell_type": "code",
   "execution_count": 939,
   "source": [
    "df_oh = pd.read_csv('alf-datasets/oh/oh-alf-hc.csv')\n",
    "df_oh['Date Accessed'] = '6/29/21'"
   ],
   "outputs": [],
   "metadata": {}
  },
  {
   "cell_type": "code",
   "execution_count": 940,
   "source": [
    "df_oh.shape"
   ],
   "outputs": [
    {
     "output_type": "execute_result",
     "data": {
      "text/plain": [
       "(1155, 14)"
      ]
     },
     "metadata": {},
     "execution_count": 940
    }
   ],
   "metadata": {}
  },
  {
   "cell_type": "code",
   "execution_count": 941,
   "source": [
    "cleaner(df_oh, 'OH')"
   ],
   "outputs": [
    {
     "output_type": "stream",
     "name": "stdout",
     "text": [
      "Extraneous columns are:\n",
      "[]\n",
      "793 ALFs, 793 unique License Numbers, 0 NA License Numbers\n"
     ]
    }
   ],
   "metadata": {}
  },
  {
   "cell_type": "code",
   "execution_count": 942,
   "source": [
    "df_oh.to_csv('alf-datasets/oh/oh-alf-final.csv', index=False)"
   ],
   "outputs": [],
   "metadata": {}
  },
  {
   "cell_type": "markdown",
   "source": [
    "## North Carolina"
   ],
   "metadata": {}
  },
  {
   "cell_type": "code",
   "execution_count": 831,
   "source": [
    "! ls alf-datasets/nc"
   ],
   "outputs": [
    {
     "output_type": "stream",
     "name": "stdout",
     "text": [
      "nc-alf-ach-hc.csv  nc-alf-ach-raw.csv nc-alf-final.csv   nc-alf-mahs.html\n"
     ]
    }
   ],
   "metadata": {}
  },
  {
   "cell_type": "code",
   "execution_count": 832,
   "source": [
    "df_nc_ach = pd.read_csv('alf-datasets/nc/nc-alf-ach-hc.csv')\n",
    "cleaner(df_nc_ach, 'NC')"
   ],
   "outputs": [
    {
     "output_type": "stream",
     "name": "stdout",
     "text": [
      "Extraneous columns are:\n",
      "[]\n",
      "594 ALFs, 594 unique License Numbers, 0 NA License Numbers\n"
     ]
    }
   ],
   "metadata": {}
  },
  {
   "cell_type": "code",
   "execution_count": 833,
   "source": [
    "# there's more NC at the bottom to be dealt with\n",
    "# df_nc.to_csv('alf-datasets/nc/nc-alf-final.csv', index=False)"
   ],
   "outputs": [],
   "metadata": {}
  },
  {
   "cell_type": "markdown",
   "source": [
    "## New York"
   ],
   "metadata": {}
  },
  {
   "cell_type": "code",
   "execution_count": 631,
   "source": [
    "! ls alf-datasets/ny"
   ],
   "outputs": [
    {
     "output_type": "stream",
     "name": "stdout",
     "text": [
      "ny-alf-final.csv ny-alf-hc.csv    ny-alf-raw.csv\n"
     ]
    }
   ],
   "metadata": {}
  },
  {
   "cell_type": "code",
   "execution_count": 632,
   "source": [
    "df_ny = pd.read_csv(\"alf-datasets/ny/ny-alf-hc.csv\")\n",
    "df_ny[\"Date Accessed\"] = \"6/29/21\""
   ],
   "outputs": [],
   "metadata": {}
  },
  {
   "cell_type": "code",
   "execution_count": 951,
   "source": [
    "df_ny['Type'].unique()"
   ],
   "outputs": [
    {
     "output_type": "execute_result",
     "data": {
      "text/plain": [
       "array(['AH/ALP', 'AH', 'EHP', 'EHP/ALP'], dtype=object)"
      ]
     },
     "metadata": {},
     "execution_count": 951
    }
   ],
   "metadata": {}
  },
  {
   "cell_type": "code",
   "execution_count": 952,
   "source": [
    "def type_simplifier_ny(x):\n",
    "    if x == 'AH/ALP': return 'Adult Home and Assisted Living Program'\n",
    "    elif x == 'AH': return 'Adult Home'\n",
    "    elif x == 'EHP': return 'Enriched Housing Program'\n",
    "    elif x == 'EHP/ALP': return 'Enriched Housing and Assisted Living Program'\n",
    "    else: return 'THIS IS A MISTAKE'"
   ],
   "outputs": [],
   "metadata": {}
  },
  {
   "cell_type": "code",
   "execution_count": 953,
   "source": [
    "df_ny['State Facility Type 1 Literal'] = 'Adult Care Facility'\n",
    "df_ny['State Facility Type 2 Literal'] = [type_simplifier_ny(x) for x in df_ny['Type']]"
   ],
   "outputs": [],
   "metadata": {}
  },
  {
   "cell_type": "code",
   "execution_count": 954,
   "source": [
    "df_ny['Ownership Type'] = ['Non Profit' if x == 'NFP' else 'For Profit' for x in df_ny['Classification']]"
   ],
   "outputs": [],
   "metadata": {}
  },
  {
   "cell_type": "code",
   "execution_count": 955,
   "source": [
    "df_ny = df_ny.drop(columns=['Type', 'Classification'])"
   ],
   "outputs": [],
   "metadata": {}
  },
  {
   "cell_type": "code",
   "execution_count": 956,
   "source": [
    "cleaner(df_ny, 'NY')"
   ],
   "outputs": [
    {
     "output_type": "stream",
     "name": "stdout",
     "text": [
      "Extraneous columns are:\n",
      "[]\n",
      "553 ALFs, 553 unique License Numbers, 0 NA License Numbers\n"
     ]
    }
   ],
   "metadata": {}
  },
  {
   "cell_type": "code",
   "execution_count": 958,
   "source": [
    "df_ny.to_csv('alf-datasets/ny/ny-alf-final.csv', index=False)"
   ],
   "outputs": [],
   "metadata": {}
  },
  {
   "cell_type": "markdown",
   "source": [
    "## New Jersey"
   ],
   "metadata": {}
  },
  {
   "cell_type": "code",
   "execution_count": 959,
   "source": [
    "! ls alf-datasets/nj"
   ],
   "outputs": [
    {
     "output_type": "stream",
     "name": "stdout",
     "text": [
      "nj-alf-final.csv nj-alf-hc.csv    nj-alf-raw.csv\n"
     ]
    }
   ],
   "metadata": {}
  },
  {
   "cell_type": "code",
   "execution_count": 960,
   "source": [
    "df_nj = pd.read_csv('alf-datasets/nj/nj-alf-hc.csv')\n",
    "df_nj['Date Accessed'] = '6/29/21'\n",
    "df_nj['State Facility Type 1 Literal'] = 'Assisted Living Service'\n",
    "cleaner(df_nj, 'NJ')"
   ],
   "outputs": [
    {
     "output_type": "stream",
     "name": "stdout",
     "text": [
      "Extraneous columns are:\n",
      "[]\n",
      "269 ALFs, 269 unique License Numbers, 0 NA License Numbers\n"
     ]
    }
   ],
   "metadata": {}
  },
  {
   "cell_type": "code",
   "execution_count": 962,
   "source": [
    "df_nj.to_csv('alf-datasets/nj/nj-alf-final.csv', index=False)"
   ],
   "outputs": [],
   "metadata": {}
  },
  {
   "cell_type": "markdown",
   "source": [
    "## Nevada"
   ],
   "metadata": {}
  },
  {
   "cell_type": "code",
   "execution_count": 963,
   "source": [
    "! ls alf-datasets/nv"
   ],
   "outputs": [
    {
     "output_type": "stream",
     "name": "stdout",
     "text": [
      "nv-alf-final.csv nv-alf-hc.csv    nv-alf-raw.csv\n"
     ]
    }
   ],
   "metadata": {}
  },
  {
   "cell_type": "code",
   "execution_count": 964,
   "source": [
    "df_nv = pd.read_csv('alf-datasets/nv/nv-alf-hc.csv')\n",
    "df_nv['Date Accessed'] = '6/29/21'\n",
    "cleaner(df_nv, 'NV')"
   ],
   "outputs": [
    {
     "output_type": "stream",
     "name": "stdout",
     "text": [
      "Extraneous columns are:\n",
      "[]\n",
      "387 ALFs, 387 unique License Numbers, 0 NA License Numbers\n"
     ]
    }
   ],
   "metadata": {}
  },
  {
   "cell_type": "code",
   "execution_count": 966,
   "source": [
    "df_nv.to_csv('alf-datasets/nv/nv-alf-final.csv', index=False)"
   ],
   "outputs": [],
   "metadata": {}
  },
  {
   "cell_type": "markdown",
   "source": [
    "## Nebraska"
   ],
   "metadata": {}
  },
  {
   "cell_type": "code",
   "execution_count": 967,
   "source": [
    "! ls alf-datasets/ne"
   ],
   "outputs": [
    {
     "output_type": "stream",
     "name": "stdout",
     "text": [
      "ne-alf-final.csv ne-alf-hc.csv    ne-alf-raw.csv\n"
     ]
    }
   ],
   "metadata": {}
  },
  {
   "cell_type": "code",
   "execution_count": 968,
   "source": [
    "df_ne = pd.read_csv('alf-datasets/ne/ne-alf-hc.csv')\n",
    "df_ne['Date Accessed'] = '6/29/21'\n",
    "cleaner(df_ne, 'NE')"
   ],
   "outputs": [
    {
     "output_type": "stream",
     "name": "stdout",
     "text": [
      "Extraneous columns are:\n",
      "[]\n",
      "No License Number of Facility ID\n"
     ]
    }
   ],
   "metadata": {}
  },
  {
   "cell_type": "code",
   "execution_count": 970,
   "source": [
    "df_ne.to_csv('alf-datasets/ne/ne-alf-final.csv', index=False)"
   ],
   "outputs": [],
   "metadata": {}
  },
  {
   "cell_type": "markdown",
   "source": [
    "## Missouri"
   ],
   "metadata": {}
  },
  {
   "cell_type": "code",
   "execution_count": 983,
   "source": [
    "! ls alf-datasets/mo"
   ],
   "outputs": [
    {
     "output_type": "stream",
     "name": "stdout",
     "text": [
      "mo-alf-final.csv mo-alf-hc.csv    mo-alf-raw.csv\n"
     ]
    }
   ],
   "metadata": {}
  },
  {
   "cell_type": "code",
   "execution_count": 984,
   "source": [
    "df_mo = pd.read_csv('alf-datasets/mo/mo-alf-hc.csv')\n",
    "df_mo['Date Accessed'] = '6/29/21'"
   ],
   "outputs": [],
   "metadata": {}
  },
  {
   "cell_type": "code",
   "execution_count": 985,
   "source": [
    "df_mo['Level of Care'].unique()"
   ],
   "outputs": [
    {
     "output_type": "execute_result",
     "data": {
      "text/plain": [
       "array(['RCF', 'SNF', 'ALF', 'ICF', 'RCF*', 'ALF**'], dtype=object)"
      ]
     },
     "metadata": {},
     "execution_count": 985
    }
   ],
   "metadata": {}
  },
  {
   "cell_type": "code",
   "execution_count": 986,
   "source": [
    "df_mo = df_mo[df_mo['Level of Care'].isin(['RCF', 'ALF', 'RCF*', 'ALF**'])]"
   ],
   "outputs": [],
   "metadata": {}
  },
  {
   "cell_type": "code",
   "execution_count": 987,
   "source": [
    "def type_simplifier_mo(x):\n",
    "    if x == 'RCF': return 'Residential Care Facility'\n",
    "    elif x == 'ALF': return 'Assisted Living Facility'\n",
    "    elif x == 'RCF*': return 'Residential Care Facility*'\n",
    "    elif x == 'ALF**': return 'Assisted Living Facility**'\n",
    "    else: return 'THIS IS A MISTAKE'"
   ],
   "outputs": [],
   "metadata": {}
  },
  {
   "cell_type": "code",
   "execution_count": 988,
   "source": [
    "df_mo['State Facility Type 1 Literal'] = [type_simplifier_mo(x) for x in df_mo['Level of Care']]\n",
    "df_mo = df_mo.rename(columns={'Level of Care Code': 'State Facility Type 2 Literal'})\n",
    "df_mo = df_mo.drop(columns='Level of Care')"
   ],
   "outputs": [],
   "metadata": {}
  },
  {
   "cell_type": "code",
   "execution_count": 989,
   "source": [
    "cleaner(df_mo, 'MO')"
   ],
   "outputs": [
    {
     "output_type": "stream",
     "name": "stdout",
     "text": [
      "Extraneous columns are:\n",
      "[]\n",
      "632 ALFs, 631 unique Facility IDs, 0 NA Facility IDs\n"
     ]
    }
   ],
   "metadata": {}
  },
  {
   "cell_type": "code",
   "execution_count": 990,
   "source": [
    "df_mo.to_csv('alf-datasets/mo/mo-alf-final.csv', index=False)"
   ],
   "outputs": [],
   "metadata": {}
  },
  {
   "cell_type": "markdown",
   "source": [
    "## Minnesota"
   ],
   "metadata": {}
  },
  {
   "cell_type": "code",
   "execution_count": 346,
   "source": [
    "! ls alf-datasets/mn"
   ],
   "outputs": [
    {
     "output_type": "stream",
     "name": "stdout",
     "text": [
      "mn-alf-final.csv   mn-alf-hws-raw.csv mn-alf-sl-raw.csv\n",
      "mn-alf-hws-hc.csv  mn-alf-sl-hc.csv\n"
     ]
    }
   ],
   "metadata": {}
  },
  {
   "cell_type": "code",
   "execution_count": 347,
   "source": [
    "df_mn_sl = pd.read_csv('alf-datasets/mn/mn-alf-sl-hc.csv')\n",
    "df_mn_hws = pd.read_csv('alf-datasets/mn/mn-alf-hws-hc.csv')\n",
    "df_mn = pd.concat([df_mn_sl, df_mn_hws], ignore_index=True)\n",
    "df_mn['Date Accessed'] = '7/12/21'\n",
    "cleaner(df_mn, 'MN')"
   ],
   "outputs": [
    {
     "output_type": "stream",
     "name": "stdout",
     "text": [
      "Extraneous columns are:\n",
      "[]\n",
      "2771 ALFs, 2771 unique Facility IDs, 0 NA Facility IDs\n"
     ]
    }
   ],
   "metadata": {}
  },
  {
   "cell_type": "code",
   "execution_count": 348,
   "source": [
    "df_mn['State Facility Type 1 Literal'].unique()"
   ],
   "outputs": [
    {
     "output_type": "execute_result",
     "data": {
      "text/plain": [
       "array(['SUPERVISED LIVING FACILITY', 'HOUSING WITH SERVICES'],\n",
       "      dtype=object)"
      ]
     },
     "metadata": {},
     "execution_count": 348
    }
   ],
   "metadata": {}
  },
  {
   "cell_type": "code",
   "execution_count": 350,
   "source": [
    "df_mn = df_mn[df_mn['State Facility Type 1 Literal'] == 'HOUSING WITH SERVICES']"
   ],
   "outputs": [],
   "metadata": {}
  },
  {
   "cell_type": "code",
   "execution_count": 351,
   "source": [
    "df_mn.to_csv('alf-datasets/mn/mn-alf-final.csv', index=False)"
   ],
   "outputs": [],
   "metadata": {}
  },
  {
   "cell_type": "markdown",
   "source": [
    "## Michigan"
   ],
   "metadata": {}
  },
  {
   "cell_type": "code",
   "execution_count": 337,
   "source": [
    "! ls alf-datasets/mi"
   ],
   "outputs": [
    {
     "output_type": "stream",
     "name": "stdout",
     "text": [
      "column-descriptions.png mi-alf-hc.csv\n",
      "mi-alf-final.csv        mi-alf-raw.csv\n"
     ]
    }
   ],
   "metadata": {}
  },
  {
   "cell_type": "code",
   "execution_count": 338,
   "source": [
    "df_mi = pd.read_csv('alf-datasets/mi/mi-alf-hc.csv')\n",
    "\n",
    "df_mi['Date Accessed'] = '6/28/21'\n",
    "df_mi['State Facility Type 1 Literal'] = 'Adult Foster Care & Homes for the Aged facility'"
   ],
   "outputs": [],
   "metadata": {}
  },
  {
   "cell_type": "code",
   "execution_count": 339,
   "source": [
    "df_mi['State Facility Type 2 Literal'].unique()"
   ],
   "outputs": [
    {
     "output_type": "execute_result",
     "data": {
      "text/plain": [
       "array(['AS', 'AL', 'AM', 'AF', 'AH', 'XH', 'AG', 'AI'], dtype=object)"
      ]
     },
     "metadata": {},
     "execution_count": 339
    }
   ],
   "metadata": {}
  },
  {
   "cell_type": "code",
   "execution_count": 340,
   "source": [
    "def type_simplifier_mi(x):\n",
    "    if x == 'AF': return 'Family Home'\n",
    "    elif x == 'AS': return 'Small Group'\n",
    "    elif x == 'AM': return 'Medium Group'\n",
    "    elif x == 'AL': return 'Large Group'\n",
    "    elif x == 'AG': return 'Congregate'\n",
    "    elif x == 'AI': return 'County Infirmary'\n",
    "    elif x == 'AH': return 'Home for the Aged'\n",
    "    else: return x + \" (couldn't find documentation on what this is)\""
   ],
   "outputs": [],
   "metadata": {}
  },
  {
   "cell_type": "code",
   "execution_count": 341,
   "source": [
    "df_mi['State Facility Type 2 Literal'] = [type_simplifier_mi(x) for x in df_mi['State Facility Type 2 Literal']]"
   ],
   "outputs": [],
   "metadata": {}
  },
  {
   "cell_type": "code",
   "execution_count": 342,
   "source": [
    "df_mi['Address'] = ['' if type(x) == float else x+', ' for x in df_mi['Address 1']] + df_mi['Address 2']"
   ],
   "outputs": [],
   "metadata": {}
  },
  {
   "cell_type": "code",
   "execution_count": 343,
   "source": [
    "df_mi = df_mi.drop(columns=['Address 1', 'Address 2'])"
   ],
   "outputs": [],
   "metadata": {}
  },
  {
   "cell_type": "code",
   "execution_count": 344,
   "source": [
    "cleaner(df_mi, 'MI')"
   ],
   "outputs": [
    {
     "output_type": "stream",
     "name": "stdout",
     "text": [
      "Extraneous columns are:\n",
      "[]\n",
      "4591 ALFs, 4591 unique License Numbers, 0 NA License Numbers\n"
     ]
    }
   ],
   "metadata": {}
  },
  {
   "cell_type": "code",
   "execution_count": 345,
   "source": [
    "df_mi.to_csv('alf-datasets/mi/mi-alf-final.csv', index=False)"
   ],
   "outputs": [],
   "metadata": {}
  },
  {
   "cell_type": "markdown",
   "source": [
    "## Massachusetts"
   ],
   "metadata": {}
  },
  {
   "cell_type": "code",
   "execution_count": 319,
   "source": [
    "! ls alf-datasets/ma"
   ],
   "outputs": [
    {
     "output_type": "stream",
     "name": "stdout",
     "text": [
      "ma-alf-final.csv ma-alf-hc.csv    ma-alf-raw.csv\n"
     ]
    }
   ],
   "metadata": {}
  },
  {
   "cell_type": "code",
   "execution_count": 320,
   "source": [
    "df_ma = pd.read_csv('alf-datasets/ma/ma-alf-hc.csv')\n",
    "df_ma['Date Accessed'] = '6/28/21'\n",
    "df_ma['State Facility Type 1 Literal'] = 'assisted living residence'\n",
    "df_ma['Capacity'] = df_ma['Capacity 1'] + df_ma['Capacity 2']\n",
    "df_ma = df_ma.drop(columns=['Capacity 1', 'Capacity 2'])\n",
    "cleaner(df_ma, 'MA')"
   ],
   "outputs": [
    {
     "output_type": "stream",
     "name": "stdout",
     "text": [
      "Extraneous columns are:\n",
      "[]\n",
      "No License Number of Facility ID\n"
     ]
    }
   ],
   "metadata": {}
  },
  {
   "cell_type": "code",
   "execution_count": 321,
   "source": [
    "df_ma.to_csv('alf-datasets/ma/ma-alf-final.csv', index=False)"
   ],
   "outputs": [],
   "metadata": {}
  },
  {
   "cell_type": "markdown",
   "source": [
    "## Maryland "
   ],
   "metadata": {}
  },
  {
   "cell_type": "code",
   "execution_count": 1013,
   "source": [
    "! ls alf-datasets/md"
   ],
   "outputs": [
    {
     "output_type": "stream",
     "name": "stdout",
     "text": [
      "md-alf-final.csv md-alf-hc.csv    md-alf-raw.csv\n"
     ]
    }
   ],
   "metadata": {}
  },
  {
   "cell_type": "code",
   "execution_count": 1014,
   "source": [
    "df_md = pd.read_csv('alf-datasets/md/md-alf-hc.csv')\n",
    "df_md['Date Accessed'] = '6/28/21'\n",
    "cleaner(df_md, 'MD')"
   ],
   "outputs": [
    {
     "output_type": "stream",
     "name": "stdout",
     "text": [
      "Extraneous columns are:\n",
      "[]\n",
      "No License Number of Facility ID\n"
     ]
    }
   ],
   "metadata": {}
  },
  {
   "cell_type": "code",
   "execution_count": 1015,
   "source": [
    "df_md.to_csv('alf-datasets/md/md-alf-final.csv', index=False)"
   ],
   "outputs": [],
   "metadata": {}
  },
  {
   "cell_type": "markdown",
   "source": [
    "## Maine"
   ],
   "metadata": {}
  },
  {
   "cell_type": "code",
   "execution_count": 1016,
   "source": [
    "! ls alf-datasets/me"
   ],
   "outputs": [
    {
     "output_type": "stream",
     "name": "stdout",
     "text": [
      "me-alf-final.csv me-alf-hc.csv    me-alf-raw.csv\n"
     ]
    }
   ],
   "metadata": {}
  },
  {
   "cell_type": "code",
   "execution_count": 1017,
   "source": [
    "df_me = pd.read_csv('alf-datasets/me/me-alf-hc.csv')\n",
    "df_me['Date Accessed'] = '7/12/21'\n",
    "df_me = df_me[df_me['Status'] != 'FAILED TO RENEW']\n",
    "df_me = df_me.drop('Status', axis=1)\n",
    "cleaner(df_me, 'ME')"
   ],
   "outputs": [
    {
     "output_type": "stream",
     "name": "stdout",
     "text": [
      "Extraneous columns are:\n",
      "[]\n",
      "1086 ALFs, 1086 unique License Numbers, 0 NA License Numbers\n"
     ]
    }
   ],
   "metadata": {}
  },
  {
   "cell_type": "code",
   "execution_count": 1018,
   "source": [
    "df_me.to_csv('alf-datasets/me/me-alf-final.csv', index=False)"
   ],
   "outputs": [],
   "metadata": {}
  },
  {
   "cell_type": "markdown",
   "source": [
    "## Louisiana"
   ],
   "metadata": {}
  },
  {
   "cell_type": "code",
   "execution_count": 1019,
   "source": [
    "! ls alf-datasets/la"
   ],
   "outputs": [
    {
     "output_type": "stream",
     "name": "stdout",
     "text": [
      "la-alf-final.csv la-alf-hc.csv    la-alf-raw.csv\n"
     ]
    }
   ],
   "metadata": {}
  },
  {
   "cell_type": "code",
   "execution_count": 1020,
   "source": [
    "df_la = pd.read_csv('alf-datasets/la/la-alf-hc.csv')\n",
    "df_la = df_la[df_la['State Facility Type 1 Literal'] == 'Adult Residential Care']\n",
    "df_la['Date Accessed'] = '6/25/21'\n",
    "cleaner(df_la, 'LA')"
   ],
   "outputs": [
    {
     "output_type": "stream",
     "name": "stdout",
     "text": [
      "Extraneous columns are:\n",
      "[]\n",
      "159 ALFs, 159 unique License Numbers, 0 NA License Numbers\n"
     ]
    }
   ],
   "metadata": {}
  },
  {
   "cell_type": "code",
   "execution_count": 1021,
   "source": [
    "df_la.to_csv('alf-datasets/la/la-alf-final.csv', index=False)"
   ],
   "outputs": [],
   "metadata": {}
  },
  {
   "cell_type": "markdown",
   "source": [
    "## Kentucky"
   ],
   "metadata": {}
  },
  {
   "cell_type": "code",
   "execution_count": 37,
   "source": [
    "! ls alf-datasets/ky"
   ],
   "outputs": [
    {
     "output_type": "stream",
     "name": "stdout",
     "text": [
      "ky-alf-al-hc.csv               ky-alf-freestanding-pc-hc.csv\n",
      "ky-alf-al-raw.csv              ky-alf-freestanding-pc-raw.csv\n",
      "ky-alf-final.csv\n"
     ]
    }
   ],
   "metadata": {}
  },
  {
   "cell_type": "code",
   "execution_count": 38,
   "source": [
    "df_ky_pch = pd.read_csv('alf-datasets/ky/ky-alf-freestanding-pc-hc.csv')\n",
    "df_ky_al = pd.read_csv('alf-datasets/ky/ky-alf-al-hc.csv')\n",
    "\n",
    "df_ky_pch['State Facility Type 1 Literal'] = 'Personal Care Home'\n",
    "df_ky_pch['State Facility Type 2 Literal'] = 'Freestanding'\n",
    "df_ky_al['State Facility Type 1 Literal'] = 'Assisted Living Community'\n",
    "\n",
    "df_ky = pd.concat([df_ky_pch, df_ky_al], ignore_index=True)\n",
    "df_ky['Date Accessed'] = '6/25/21'\n",
    "\n",
    "cleaner(df_ky, 'KY')"
   ],
   "outputs": [
    {
     "output_type": "stream",
     "name": "stdout",
     "text": [
      "Extraneous columns are:\n",
      "[]\n",
      "216 ALFs, 106 unique License Numbers, 111 NA License Numbers\n"
     ]
    }
   ],
   "metadata": {}
  },
  {
   "cell_type": "code",
   "execution_count": 41,
   "source": [
    "df_ky[df_ky['State Facility Type 1 Literal'] == 'ASSISTED LIVING COMMUNITY'].to_csv('alf-datasets/ky/ky-alf-final.csv', index=False)"
   ],
   "outputs": [],
   "metadata": {}
  },
  {
   "cell_type": "code",
   "execution_count": 42,
   "source": [
    "df_ky.to_csv('alf-datasets/ky/ky-alf-final-with-extra-facilities.csv', index=False)"
   ],
   "outputs": [],
   "metadata": {}
  },
  {
   "cell_type": "markdown",
   "source": [
    "## Kansas"
   ],
   "metadata": {}
  },
  {
   "cell_type": "code",
   "execution_count": 12,
   "source": [
    "! ls alf-datasets/ks"
   ],
   "outputs": [
    {
     "output_type": "stream",
     "name": "stdout",
     "text": [
      "ks-alf-al-hc.csv    ks-alf-final.csv    ks-alf-hp-raw.csv   ks-alf-rhcf-raw.csv\n",
      "ks-alf-al-raw.csv   ks-alf-hp-hc.csv    ks-alf-rhcf-hc.csv\n"
     ]
    }
   ],
   "metadata": {}
  },
  {
   "cell_type": "code",
   "execution_count": 13,
   "source": [
    "df_ks_al = pd.read_csv('alf-datasets/ks/ks-alf-al-hc.csv')\n",
    "df_ks_rhcf = pd.read_csv('alf-datasets/ks/ks-alf-rhcf-hc.csv')\n",
    "df_ks_hp = pd.read_csv('alf-datasets/ks/ks-alf-hp-hc.csv')\n",
    "\n",
    "df_ks = pd.concat([df_ks_al, df_ks_rhcf, df_ks_hp], ignore_index=True)\n",
    "df_ks['Date Accessed'] = '6/25/21'\n",
    "# df_ks = df_ks.rename(columns={'Zipcode':'Zip Code'})"
   ],
   "outputs": [],
   "metadata": {}
  },
  {
   "cell_type": "code",
   "execution_count": 14,
   "source": [
    "df_ks['Facility Name'] = df_ks['Facility Name 2'].combine(df_ks['Licensee'], lambda x, y: y if x == '-' else x).str.title()"
   ],
   "outputs": [],
   "metadata": {}
  },
  {
   "cell_type": "code",
   "execution_count": 15,
   "source": [
    "df_ks = df_ks.drop(columns='Facility Name 2')"
   ],
   "outputs": [],
   "metadata": {}
  },
  {
   "cell_type": "code",
   "execution_count": 16,
   "source": [
    "cleaner(df_ks, 'KS')"
   ],
   "outputs": [
    {
     "output_type": "stream",
     "name": "stdout",
     "text": [
      "Extraneous columns are:\n",
      "['Zipcode']\n",
      "474 ALFs, 474 unique Facility IDs, 0 NA Facility IDs\n"
     ]
    }
   ],
   "metadata": {}
  },
  {
   "cell_type": "code",
   "execution_count": 18,
   "source": [
    "df_ks.drop(columns='Zip Code', inplace=True)\n",
    "df_ks.rename(columns={'Zipcode':'Zip Code'}, inplace=True)"
   ],
   "outputs": [],
   "metadata": {}
  },
  {
   "cell_type": "code",
   "execution_count": 20,
   "source": [
    "df_ks.to_csv('alf-datasets/ks/ks-alf-final.csv', index=False)"
   ],
   "outputs": [],
   "metadata": {}
  },
  {
   "cell_type": "markdown",
   "source": [
    "## Iowa"
   ],
   "metadata": {}
  },
  {
   "cell_type": "code",
   "execution_count": 28,
   "source": [
    "! ls alf-datasets/ia"
   ],
   "outputs": [
    {
     "output_type": "stream",
     "name": "stdout",
     "text": [
      "ia-alf-final.csv ia-alf-hc.csv    ia-alf-raw.csv\n"
     ]
    }
   ],
   "metadata": {}
  },
  {
   "cell_type": "code",
   "execution_count": 29,
   "source": [
    "df_ia = pd.read_csv('alf-datasets/ia/ia-alf-hc.csv')\n",
    "df_ia = df_ia[df_ia['Status'] == 'Active']\n",
    "df_ia = df_ia.drop(columns='Status')\n",
    "df_ia['Date Accessed'] = '6/24/21'\n",
    "cleaner(df_ia, 'IA')"
   ],
   "outputs": [
    {
     "output_type": "stream",
     "name": "stdout",
     "text": [
      "Extraneous columns are:\n",
      "[]\n",
      "339 ALFs, 339 unique Facility IDs, 0 NA Facility IDs\n"
     ]
    }
   ],
   "metadata": {}
  },
  {
   "cell_type": "code",
   "execution_count": 35,
   "source": [
    "df_ia[df_ia['State Facility Type 1 Literal'] == 'ASSISTED LIVING PROGRAMS'].to_csv('alf-datasets/ia/ia-alf-final.csv', index=False)"
   ],
   "outputs": [],
   "metadata": {}
  },
  {
   "cell_type": "code",
   "execution_count": 36,
   "source": [
    "df_ia.to_csv('alf-datasets/ia/ia-alf-final-with-extra-facilities.csv', index=False)"
   ],
   "outputs": [],
   "metadata": {}
  },
  {
   "cell_type": "markdown",
   "source": [
    "## Indiana"
   ],
   "metadata": {}
  },
  {
   "cell_type": "code",
   "execution_count": 1054,
   "source": [
    "! ls alf-datasets/in"
   ],
   "outputs": [
    {
     "output_type": "stream",
     "name": "stdout",
     "text": [
      "in-alf-final.csv in-alf-hc.csv    in-alf-raw.csv\n"
     ]
    }
   ],
   "metadata": {}
  },
  {
   "cell_type": "code",
   "execution_count": 1055,
   "source": [
    "df_in = pd.read_csv('alf-datasets/in/in-alf-hc.csv')\n",
    "df_in['State Facility Type 2 Literal'] = df_in['Type 3'].str.cat(df_in['Type 2'], sep=', ')\n",
    "df_in = df_in.drop(columns=['Type 2', 'Type 3'])\n",
    "df_in['Date Accessed'] = '7/7/21'\n",
    "cleaner(df_in, 'IN')"
   ],
   "outputs": [
    {
     "output_type": "stream",
     "name": "stdout",
     "text": [
      "Extraneous columns are:\n",
      "[]\n",
      "364 ALFs, 364 unique Facility IDs, 0 NA Facility IDs\n"
     ]
    }
   ],
   "metadata": {}
  },
  {
   "cell_type": "code",
   "execution_count": 1057,
   "source": [
    "df_in.to_csv('alf-datasets/in/in-alf-final.csv', index=False)"
   ],
   "outputs": [],
   "metadata": {}
  },
  {
   "cell_type": "markdown",
   "source": [
    "## Illinois"
   ],
   "metadata": {}
  },
  {
   "cell_type": "code",
   "execution_count": 1058,
   "source": [
    "! ls alf-datasets/il"
   ],
   "outputs": [
    {
     "output_type": "stream",
     "name": "stdout",
     "text": [
      "il-alf-final.csv il-alf-hc.csv    il-alf-raw.csv\n"
     ]
    }
   ],
   "metadata": {}
  },
  {
   "cell_type": "code",
   "execution_count": 1059,
   "source": [
    "df_il = pd.read_csv('alf-datasets/il/il-alf-hc.csv')\n",
    "df_il['Date Accessed'] = '6/24/21'\n",
    "df_il['State Facility Type 1 Literal'] = 'Assisted Living/Shared Housing'\n",
    "cleaner(df_il, 'IL')"
   ],
   "outputs": [
    {
     "output_type": "stream",
     "name": "stdout",
     "text": [
      "Extraneous columns are:\n",
      "[]\n",
      "495 ALFs, 495 unique License Numbers, 0 NA License Numbers\n"
     ]
    }
   ],
   "metadata": {}
  },
  {
   "cell_type": "code",
   "execution_count": 1060,
   "source": [
    "df_il.to_csv('alf-datasets/il/il-alf-final.csv', index=False)"
   ],
   "outputs": [],
   "metadata": {}
  },
  {
   "cell_type": "markdown",
   "source": [
    "## Hawaii"
   ],
   "metadata": {}
  },
  {
   "cell_type": "code",
   "execution_count": 21,
   "source": [
    "! ls alf-datasets/hi"
   ],
   "outputs": [
    {
     "output_type": "stream",
     "name": "stdout",
     "text": [
      "hi-alf-al-hc.csv    hi-alf-al.pdf       hi-alf-arch-raw.csv hi-alf-final.csv\n",
      "hi-alf-al-raw.csv   hi-alf-arch-hc.csv  hi-alf-arch.pdf\n"
     ]
    }
   ],
   "metadata": {}
  },
  {
   "cell_type": "code",
   "execution_count": 22,
   "source": [
    "df_hi_al = pd.read_csv('alf-datasets/hi/hi-alf-al-hc.csv')\n",
    "df_hi_arch = pd.read_csv('alf-datasets/hi/hi-alf-arch-hc.csv')\n",
    "\n",
    "df_hi_al['State Facility Type 1 Literal'] = 'Assisted Living Facility'\n",
    "\n",
    "df_hi = pd.concat([df_hi_al, df_hi_arch], ignore_index=True)\n",
    "\n",
    "df_hi['Date Accessed'] = '6/24/21'\n",
    "cleaner(df_hi, 'HI')"
   ],
   "outputs": [
    {
     "output_type": "stream",
     "name": "stdout",
     "text": [
      "Extraneous columns are:\n",
      "['Island']\n",
      "474 ALFs, 474 unique License Numbers, 0 NA License Numbers\n"
     ]
    }
   ],
   "metadata": {}
  },
  {
   "cell_type": "code",
   "execution_count": 23,
   "source": [
    "df_hi = df_hi.drop(columns='Island')"
   ],
   "outputs": [],
   "metadata": {}
  },
  {
   "cell_type": "code",
   "execution_count": 26,
   "source": [
    "# just ALF to follow NCAL study\n",
    "df_hi[df_hi['State Facility Type 1 Literal'] == 'ASSISTED LIVING FACILITY'].to_csv('alf-datasets/hi/hi-alf-final.csv', index=False)"
   ],
   "outputs": [],
   "metadata": {}
  },
  {
   "cell_type": "code",
   "execution_count": 27,
   "source": [
    "# df with extras\n",
    "df_hi.to_csv('alf-datasets/hi/hi-alf-final-with-extra-facilities.csv', index=False)"
   ],
   "outputs": [],
   "metadata": {}
  },
  {
   "cell_type": "markdown",
   "source": [
    "## Georgia"
   ],
   "metadata": {}
  },
  {
   "cell_type": "code",
   "execution_count": 1064,
   "source": [
    "! ls alf-datasets/ga"
   ],
   "outputs": [
    {
     "output_type": "stream",
     "name": "stdout",
     "text": [
      "ga-alf-final.csv ga-alf-hc.csv    ga-alf-raw.csv\n"
     ]
    }
   ],
   "metadata": {}
  },
  {
   "cell_type": "code",
   "execution_count": 1065,
   "source": [
    "df_ga = pd.read_csv('alf-datasets/ga/ga-alf-hc.csv')\n",
    "df_ga['Date Accessed'] = '6/24/21'\n",
    "cleaner(df_ga, 'GA')"
   ],
   "outputs": [
    {
     "output_type": "stream",
     "name": "stdout",
     "text": [
      "Extraneous columns are:\n",
      "[]\n",
      "No License Number of Facility ID\n"
     ]
    }
   ],
   "metadata": {}
  },
  {
   "cell_type": "code",
   "execution_count": 1066,
   "source": [
    "df_ga.to_csv('alf-datasets/ga/ga-alf-final.csv', index=False)"
   ],
   "outputs": [],
   "metadata": {}
  },
  {
   "cell_type": "markdown",
   "source": [
    "## Florida"
   ],
   "metadata": {}
  },
  {
   "cell_type": "code",
   "execution_count": 1067,
   "source": [
    "! ls alf-datasets/fl"
   ],
   "outputs": [
    {
     "output_type": "stream",
     "name": "stdout",
     "text": [
      "fl-alf-final.csv fl-alf-hc.csv    fl-alf-raw.csv\n"
     ]
    }
   ],
   "metadata": {}
  },
  {
   "cell_type": "code",
   "execution_count": 1068,
   "source": [
    "df_fl = pd.read_csv('alf-datasets/fl/fl-alf-hc.csv')\n",
    "df_fl['Date Accessed'] = '6/24/21'\n",
    "cleaner(df_fl, 'FL')"
   ],
   "outputs": [
    {
     "output_type": "stream",
     "name": "stdout",
     "text": [
      "Extraneous columns are:\n",
      "[]\n",
      "3157 ALFs, 3155 unique License Numbers, 1 NA License Numbers\n"
     ]
    }
   ],
   "metadata": {}
  },
  {
   "cell_type": "code",
   "execution_count": 1069,
   "source": [
    "df_fl.to_csv('alf-datasets/fl/fl-alf-final.csv', index=False)"
   ],
   "outputs": [],
   "metadata": {}
  },
  {
   "cell_type": "markdown",
   "source": [
    "## Connecticut"
   ],
   "metadata": {}
  },
  {
   "cell_type": "code",
   "execution_count": 1070,
   "source": [
    "! ls alf-datasets/ct"
   ],
   "outputs": [
    {
     "output_type": "stream",
     "name": "stdout",
     "text": [
      "ct-alf-al-hc.csv   ct-alf-final.csv   ct-alf-rcf-raw.csv\n",
      "ct-alf-al-raw.csv  ct-alf-rcf-hc.csv\n"
     ]
    }
   ],
   "metadata": {}
  },
  {
   "cell_type": "code",
   "execution_count": 1071,
   "source": [
    "df_ct_al = pd.read_csv('alf-datasets/ct/ct-alf-al-hc.csv')\n",
    "df_ct_rcf = pd.read_csv('alf-datasets/ct/ct-alf-rcf-hc.csv')\n",
    "\n",
    "df_ct_al['State Facility Type 1 Literal'] = 'Assisted Living Service Agency'\n",
    "df_ct_rcf['State Facility Type 1 Literal'] = 'Residential Care Facility'\n",
    "\n",
    "df_ct = pd.concat([df_ct_al, df_ct_rcf], ignore_index=True)\n",
    "\n",
    "df_ct['Date Accessed'] = '7/13/21'\n",
    "cleaner(df_ct, 'CT')"
   ],
   "outputs": [
    {
     "output_type": "stream",
     "name": "stdout",
     "text": [
      "Extraneous columns are:\n",
      "[]\n",
      "210 ALFs, 210 unique License Numbers, 0 NA License Numbers\n"
     ]
    }
   ],
   "metadata": {}
  },
  {
   "cell_type": "code",
   "execution_count": 1072,
   "source": [
    "df_ct.to_csv('alf-datasets/ct/ct-alf-final.csv', index=False)"
   ],
   "outputs": [],
   "metadata": {}
  },
  {
   "cell_type": "markdown",
   "source": [
    "## Colorado"
   ],
   "metadata": {}
  },
  {
   "cell_type": "code",
   "execution_count": 1073,
   "source": [
    "! ls alf-datasets/co"
   ],
   "outputs": [
    {
     "output_type": "stream",
     "name": "stdout",
     "text": [
      "co-alf-final.csv co-alf-hc.csv    co-alf-raw.csv\n"
     ]
    }
   ],
   "metadata": {}
  },
  {
   "cell_type": "code",
   "execution_count": 1074,
   "source": [
    "df_co = pd.read_csv('alf-datasets/co/co-alf-hc.csv')\n",
    "df_co['Date Accessed'] = '7/6/21'\n",
    "cleaner(df_co, 'CO')"
   ],
   "outputs": [
    {
     "output_type": "stream",
     "name": "stdout",
     "text": [
      "Extraneous columns are:\n",
      "[]\n",
      "711 ALFs, 711 unique Facility IDs, 0 NA Facility IDs\n"
     ]
    }
   ],
   "metadata": {}
  },
  {
   "cell_type": "code",
   "execution_count": 1075,
   "source": [
    "df_co.to_csv('alf-datasets/co/co-alf-final.csv', index=False)"
   ],
   "outputs": [],
   "metadata": {}
  },
  {
   "cell_type": "markdown",
   "source": [
    "## California"
   ],
   "metadata": {}
  },
  {
   "cell_type": "code",
   "execution_count": 1076,
   "source": [
    "! ls alf-datasets/ca"
   ],
   "outputs": [
    {
     "output_type": "stream",
     "name": "stdout",
     "text": [
      "ca-alf-final.csv ca-alf-hc.csv    ca-alf-raw.csv\n"
     ]
    }
   ],
   "metadata": {}
  },
  {
   "cell_type": "code",
   "execution_count": 1077,
   "source": [
    "df_ca = pd.read_csv('alf-datasets/ca/ca-alf-hc.csv')\n",
    "df_ca = df_ca[df_ca['Facility Status'] != 'CLOSED']\n",
    "df_ca = df_ca.drop(columns='Facility Status')\n",
    "df_ca['Date Accessed'] = '7/13/21'\n",
    "cleaner(df_ca, 'CA')"
   ],
   "outputs": [
    {
     "output_type": "stream",
     "name": "stdout",
     "text": [
      "Extraneous columns are:\n",
      "[]\n",
      "8042 ALFs, 8042 unique Facility IDs, 0 NA Facility IDs\n"
     ]
    }
   ],
   "metadata": {}
  },
  {
   "cell_type": "code",
   "execution_count": 1078,
   "source": [
    "df_ca.to_csv('alf-datasets/ca/ca-alf-final.csv', index=False)"
   ],
   "outputs": [],
   "metadata": {}
  },
  {
   "cell_type": "markdown",
   "source": [
    "## Arizona"
   ],
   "metadata": {}
  },
  {
   "cell_type": "code",
   "execution_count": 1079,
   "source": [
    "! ls alf-datasets/az"
   ],
   "outputs": [
    {
     "output_type": "stream",
     "name": "stdout",
     "text": [
      "az-alf-final.csv az-alf-hc.csv    az-alf-raw.csv\n"
     ]
    }
   ],
   "metadata": {}
  },
  {
   "cell_type": "code",
   "execution_count": 1080,
   "source": [
    "df_az = pd.read_csv('alf-datasets/az/az-alf-hc.csv')\n",
    "df_az['Date Accessed'] = '7/13/21'\n",
    "df_az = df_az[df_az['State Facility Type 1 Literal'].apply(lambda x: 'ASSISTED LIVING' in x)]\n",
    "cleaner(df_az, 'AZ')"
   ],
   "outputs": [
    {
     "output_type": "stream",
     "name": "stdout",
     "text": [
      "Extraneous columns are:\n",
      "[]\n",
      "2113 ALFs, 2113 unique License Numbers, 0 NA License Numbers\n"
     ]
    }
   ],
   "metadata": {}
  },
  {
   "cell_type": "code",
   "execution_count": 1081,
   "source": [
    "df_az.to_csv('alf-datasets/az/az-alf-final.csv', index=False)"
   ],
   "outputs": [],
   "metadata": {}
  },
  {
   "cell_type": "markdown",
   "source": [
    "## Alabama"
   ],
   "metadata": {}
  },
  {
   "cell_type": "code",
   "execution_count": 1082,
   "source": [
    "! ls alf-datasets/al"
   ],
   "outputs": [
    {
     "output_type": "stream",
     "name": "stdout",
     "text": [
      "al-alf-al-hc.csv  al-alf-final.csv  al-alf-sc-raw.csv\n",
      "al-alf-al-raw.csv al-alf-sc-hc.csv  al-pums.json\n"
     ]
    }
   ],
   "metadata": {}
  },
  {
   "cell_type": "code",
   "execution_count": 1083,
   "source": [
    "df_al_al = pd.read_csv('alf-datasets/al/al-alf-al-hc.csv')\n",
    "df_al_sc = pd.read_csv('alf-datasets/al/al-alf-sc-hc.csv')\n",
    "df_al = pd.concat([df_al_al,df_al_sc], ignore_index=True)\n",
    "df_al['Date Accessed'] = '6/24/21'"
   ],
   "outputs": [],
   "metadata": {}
  },
  {
   "cell_type": "code",
   "execution_count": 1084,
   "source": [
    "df_al['Address'] = df_al['Address 1'] + ['' if type(x) == float else ', '+x for x in df_al['Address 2']]\n",
    "df_al = df_al.drop(columns=['Address 1', 'Address 2'])"
   ],
   "outputs": [],
   "metadata": {}
  },
  {
   "cell_type": "code",
   "execution_count": 1085,
   "source": [
    "cleaner(df_al, 'AL')"
   ],
   "outputs": [
    {
     "output_type": "stream",
     "name": "stdout",
     "text": [
      "Extraneous columns are:\n",
      "[]\n",
      "300 ALFs, 300 unique Facility IDs, 0 NA Facility IDs\n"
     ]
    }
   ],
   "metadata": {}
  },
  {
   "cell_type": "code",
   "execution_count": 1086,
   "source": [
    "df_al.to_csv('alf-datasets/al/al-alf-final.csv', index=False)"
   ],
   "outputs": [],
   "metadata": {}
  },
  {
   "cell_type": "markdown",
   "source": [
    "## Vermont"
   ],
   "metadata": {}
  },
  {
   "cell_type": "code",
   "execution_count": 1087,
   "source": [
    "df_vt_al = pd.read_csv('alf-datasets/vt/vt-alf-al-hc.csv')\n",
    "df_vt_rch = pd.read_csv('alf-datasets/vt/vt-alf-rch-hc.csv')\n",
    "\n",
    "df_vt_al['State Facility Type 1 Literal'] = 'Assisted Living Residence'\n",
    "df_vt_rch['State Facility Type 1 Literal'] = 'Residential Care Home'\n",
    "\n",
    "df_vt = pd.concat([df_vt_al, df_vt_rch], ignore_index=True)\n",
    "cleaner(df_vt, 'VT')"
   ],
   "outputs": [
    {
     "output_type": "stream",
     "name": "stdout",
     "text": [
      "Extraneous columns are:\n",
      "[]\n",
      "No License Number of Facility ID\n"
     ]
    }
   ],
   "metadata": {}
  },
  {
   "cell_type": "code",
   "execution_count": 1088,
   "source": [
    "df_vt.to_csv('alf-datasets/vt/vt-alf-final.csv', index=False)"
   ],
   "outputs": [],
   "metadata": {}
  },
  {
   "cell_type": "markdown",
   "source": [
    "## Alaska"
   ],
   "metadata": {}
  },
  {
   "cell_type": "code",
   "execution_count": 4,
   "source": [
    "!ls alf-datasets/ak"
   ],
   "outputs": [
    {
     "output_type": "stream",
     "name": "stdout",
     "text": [
      "ak-alf-hc.csv  ak-alf-raw.csv\n"
     ]
    }
   ],
   "metadata": {}
  },
  {
   "cell_type": "code",
   "execution_count": 6,
   "source": [
    "df_ak = pd.read_csv('alf-datasets/ak/ak-alf-hc.csv')\n",
    "df_ak['Date Accessed'] = '8/2/21'\n",
    "df_ak['State Facility Type 1 Literal'] = 'Assisted living home'"
   ],
   "outputs": [],
   "metadata": {}
  },
  {
   "cell_type": "code",
   "execution_count": 7,
   "source": [
    "cleaner(df_ak, 'AK')"
   ],
   "outputs": [
    {
     "output_type": "stream",
     "name": "stdout",
     "text": [
      "Extraneous columns are:\n",
      "[]\n",
      "704 ALFs, 704 unique License Numbers, 0 NA License Numbers\n"
     ]
    }
   ],
   "metadata": {}
  },
  {
   "cell_type": "code",
   "execution_count": 10,
   "source": [
    "df_ak.to_csv('alf-datasets/ak/ak-alf-final.csv', index=False)"
   ],
   "outputs": [],
   "metadata": {}
  },
  {
   "cell_type": "markdown",
   "source": [
    "## Montana"
   ],
   "metadata": {}
  },
  {
   "cell_type": "code",
   "execution_count": 14,
   "source": [
    "! ls alf-datasets/mt/"
   ],
   "outputs": [
    {
     "output_type": "stream",
     "name": "stdout",
     "text": [
      "mt-alf-hc.csv  mt-alf-raw.csv\n"
     ]
    }
   ],
   "metadata": {}
  },
  {
   "cell_type": "code",
   "execution_count": 15,
   "source": [
    "df_mt = pd.read_csv('alf-datasets/mt/mt-alf-hc.csv')\n",
    "df_mt['Date Accessed'] = '8/2/21'\n",
    "\n",
    "cleaner(df_mt, 'MT')"
   ],
   "outputs": [
    {
     "output_type": "stream",
     "name": "stdout",
     "text": [
      "Extraneous columns are:\n",
      "['City\\n', 'Zip Code\\n', 'State\\xa0Facility\\xa0Type\\xa01\\xa0Literal', 'State\\n']\n",
      "213 ALFs, 213 unique License Numbers, 0 NA License Numbers\n"
     ]
    }
   ],
   "metadata": {}
  },
  {
   "cell_type": "code",
   "execution_count": 16,
   "source": [
    "df_mt.columns"
   ],
   "outputs": [
    {
     "output_type": "execute_result",
     "data": {
      "text/plain": [
       "Index(['State Facility Type 1 Literal', 'License Number', 'Facility Name',\n",
       "       'Phone Number', 'Capacity', 'County', 'Address', 'City\\n', 'State\\n',\n",
       "       'Zip Code\\n', 'Date Accessed', 'State'],\n",
       "      dtype='object')"
      ]
     },
     "metadata": {},
     "execution_count": 16
    }
   ],
   "metadata": {}
  },
  {
   "cell_type": "code",
   "execution_count": 17,
   "source": [
    "df_mt.columns = ['State Facility Type 1 Literal', 'License Number', 'Facility Name', 'Phone Number', 'Capacity', 'County', 'Address', 'City', 'State', 'Zip Code', 'Date Accessed', 'State']"
   ],
   "outputs": [],
   "metadata": {}
  },
  {
   "cell_type": "code",
   "execution_count": 18,
   "source": [
    "cleaner(df_mt, 'MT')"
   ],
   "outputs": [
    {
     "output_type": "stream",
     "name": "stdout",
     "text": [
      "Extraneous columns are:\n",
      "[]\n",
      "213 ALFs, 213 unique License Numbers, 0 NA License Numbers\n"
     ]
    }
   ],
   "metadata": {}
  },
  {
   "cell_type": "code",
   "execution_count": 20,
   "source": [
    "df_mt.to_csv('alf-datasets/mt/mt-alf-final.csv', index=False)"
   ],
   "outputs": [],
   "metadata": {}
  },
  {
   "cell_type": "markdown",
   "source": [
    "## New Hampshire"
   ],
   "metadata": {}
  },
  {
   "cell_type": "code",
   "execution_count": 21,
   "source": [
    "! ls alf-datasets/nh"
   ],
   "outputs": [
    {
     "output_type": "stream",
     "name": "stdout",
     "text": [
      "nh-alf-hc.csv  nh-alf-raw.csv nh-alf.pdf\n"
     ]
    }
   ],
   "metadata": {}
  },
  {
   "cell_type": "code",
   "execution_count": 43,
   "source": [
    "df_nh = pd.read_csv('alf-datasets/nh/nh-alf-hc.csv')\n",
    "df_nh['Date Accessed'] = '8/3/21'\n",
    "df_nh['State Facility Type 1 Literal'] = 'assisted living residence'\n",
    "\n",
    "df_nh = df_nh[df_nh['TYPE'].isin(['Supported Residential Care Facility', 'Assist Living/Residential Care Facility'])]\n",
    "df_nh['State Facility Type 2 Literal'] = [x.split('/')[1] if x == 'Assist Living/Residential Care Facility' else x for x in df_nh['TYPE']]\n",
    "df_nh.drop(columns='TYPE', inplace=True)\n",
    "\n",
    "cleaner(df_nh, 'NH')"
   ],
   "outputs": [
    {
     "output_type": "stream",
     "name": "stdout",
     "text": [
      "Extraneous columns are:\n",
      "[]\n",
      "138 ALFs, 138 unique License Numbers, 0 NA License Numbers\n"
     ]
    }
   ],
   "metadata": {}
  },
  {
   "cell_type": "code",
   "execution_count": 45,
   "source": [
    "df_nh.to_csv('alf-datasets/nh/nh-alf-final.csv', index=False)"
   ],
   "outputs": [],
   "metadata": {}
  },
  {
   "cell_type": "markdown",
   "source": [
    "# Extracting from HTML\n",
    "Code to extra data from states where data is only accessible in an HTML document"
   ],
   "metadata": {}
  },
  {
   "cell_type": "markdown",
   "source": [
    "## Delaware"
   ],
   "metadata": {}
  },
  {
   "cell_type": "code",
   "execution_count": 208,
   "source": [
    "! ls alf-datasets/de"
   ],
   "outputs": [
    {
     "output_type": "stream",
     "name": "stdout",
     "text": [
      "de-alf-final.csv de-alf.html\n"
     ]
    }
   ],
   "metadata": {}
  },
  {
   "cell_type": "code",
   "execution_count": 209,
   "source": [
    "soup = BeautifulSoup(open('alf-datasets/de/de-alf.html', 'r').read(), 'html.parser')"
   ],
   "outputs": [],
   "metadata": {}
  },
  {
   "cell_type": "code",
   "execution_count": 210,
   "source": [
    "# finding the first ALF to see what HTML looks like\n",
    "# soup.prettify().find('Arden Courts of Wilmington')\n",
    "# checking out what the HTML looks like to see what we should search for\n",
    "# print(soup.prettify()[21400:22500])"
   ],
   "outputs": [],
   "metadata": {}
  },
  {
   "cell_type": "code",
   "execution_count": 211,
   "source": [
    "soup_list = soup.find(id='main_content').find('ul').find_all('li')\n",
    "\n",
    "# gets string of each <li> element, unicode normalizes it, then splits based on '\\n\\n\\n\\n'\n",
    "df_de = pd.Series([unicodedata.normalize('NFKD', stuff.text) for stuff in soup_list]).str.split('\\n\\n\\n\\n', expand=True)"
   ],
   "outputs": [],
   "metadata": {}
  },
  {
   "cell_type": "code",
   "execution_count": 212,
   "source": [
    "df_de.head()"
   ],
   "outputs": [
    {
     "output_type": "execute_result",
     "data": {
      "text/html": [
       "<div>\n",
       "<style scoped>\n",
       "    .dataframe tbody tr th:only-of-type {\n",
       "        vertical-align: middle;\n",
       "    }\n",
       "\n",
       "    .dataframe tbody tr th {\n",
       "        vertical-align: top;\n",
       "    }\n",
       "\n",
       "    .dataframe thead th {\n",
       "        text-align: right;\n",
       "    }\n",
       "</style>\n",
       "<table border=\"1\" class=\"dataframe\">\n",
       "  <thead>\n",
       "    <tr style=\"text-align: right;\">\n",
       "      <th></th>\n",
       "      <th>0</th>\n",
       "      <th>1</th>\n",
       "      <th>2</th>\n",
       "      <th>3</th>\n",
       "      <th>4</th>\n",
       "    </tr>\n",
       "  </thead>\n",
       "  <tbody>\n",
       "    <tr>\n",
       "      <th>0</th>\n",
       "      <td>Arden Courts of Wilmington</td>\n",
       "      <td>700 1/2 Foulk Rd.</td>\n",
       "      <td>Wilmington, DE  19803-3708</td>\n",
       "      <td>302-762-7800</td>\n",
       "      <td>State Licensed Beds: 56\\n</td>\n",
       "    </tr>\n",
       "    <tr>\n",
       "      <th>1</th>\n",
       "      <td>Brandywine Senior Living at Fenwick Island</td>\n",
       "      <td>21111 Arrington Drive</td>\n",
       "      <td>Selbyville, DE  19975</td>\n",
       "      <td>302-436-0808</td>\n",
       "      <td>State Licensed Beds: 125\\n</td>\n",
       "    </tr>\n",
       "    <tr>\n",
       "      <th>2</th>\n",
       "      <td>Brandywine Senior Living at Seaside Pointe</td>\n",
       "      <td>36101 Seaside Blvd.</td>\n",
       "      <td>Rehoboth Beach, DE  19971-1189</td>\n",
       "      <td>302-226-8750</td>\n",
       "      <td>State Licensed Beds: 150\\n</td>\n",
       "    </tr>\n",
       "    <tr>\n",
       "      <th>3</th>\n",
       "      <td>Brookdale Dover</td>\n",
       "      <td>150 Saulsbury Road</td>\n",
       "      <td>Dover, DE  19904-2776</td>\n",
       "      <td>302-674-4407</td>\n",
       "      <td>State Licensed Beds: 96\\n</td>\n",
       "    </tr>\n",
       "    <tr>\n",
       "      <th>4</th>\n",
       "      <td>Brookdale Hockessin</td>\n",
       "      <td>6677 Lancaster Pike</td>\n",
       "      <td>Hockessin, DE  19707-9503</td>\n",
       "      <td>302-239-3200</td>\n",
       "      <td>State Licensed Beds: 66\\n</td>\n",
       "    </tr>\n",
       "  </tbody>\n",
       "</table>\n",
       "</div>"
      ],
      "text/plain": [
       "                                            0                      1  \\\n",
       "0                  Arden Courts of Wilmington      700 1/2 Foulk Rd.   \n",
       "1  Brandywine Senior Living at Fenwick Island  21111 Arrington Drive   \n",
       "2  Brandywine Senior Living at Seaside Pointe    36101 Seaside Blvd.   \n",
       "3                             Brookdale Dover     150 Saulsbury Road   \n",
       "4                         Brookdale Hockessin    6677 Lancaster Pike   \n",
       "\n",
       "                                2             3                           4  \n",
       "0      Wilmington, DE  19803-3708  302-762-7800   State Licensed Beds: 56\\n  \n",
       "1           Selbyville, DE  19975  302-436-0808  State Licensed Beds: 125\\n  \n",
       "2  Rehoboth Beach, DE  19971-1189  302-226-8750  State Licensed Beds: 150\\n  \n",
       "3           Dover, DE  19904-2776  302-674-4407   State Licensed Beds: 96\\n  \n",
       "4       Hockessin, DE  19707-9503  302-239-3200   State Licensed Beds: 66\\n  "
      ]
     },
     "metadata": {},
     "execution_count": 212
    }
   ],
   "metadata": {}
  },
  {
   "cell_type": "code",
   "execution_count": 213,
   "source": [
    "df_de['City'] = df_de[2].str.split(',', expand=True)[0]\n",
    "df_de['Zip Code'] = df_de[2].str.split(',', expand=True)[1].str.split(' ', expand=True)[3]\n",
    "df_de['Capacity'] = df_de[4].str.split(': ', expand=True)[1].str.replace('\\n', '').astype(int)\n",
    "df_de.columns = ['Facility Name', 'Address', 'REMOVE', 'Phone Number', 'REMOVE', 'City', 'Zip Code', 'Capacity']"
   ],
   "outputs": [],
   "metadata": {}
  },
  {
   "cell_type": "code",
   "execution_count": 214,
   "source": [
    "# checking columns were made correctly\n",
    "df_de.head()"
   ],
   "outputs": [
    {
     "output_type": "execute_result",
     "data": {
      "text/html": [
       "<div>\n",
       "<style scoped>\n",
       "    .dataframe tbody tr th:only-of-type {\n",
       "        vertical-align: middle;\n",
       "    }\n",
       "\n",
       "    .dataframe tbody tr th {\n",
       "        vertical-align: top;\n",
       "    }\n",
       "\n",
       "    .dataframe thead th {\n",
       "        text-align: right;\n",
       "    }\n",
       "</style>\n",
       "<table border=\"1\" class=\"dataframe\">\n",
       "  <thead>\n",
       "    <tr style=\"text-align: right;\">\n",
       "      <th></th>\n",
       "      <th>Facility Name</th>\n",
       "      <th>Address</th>\n",
       "      <th>REMOVE</th>\n",
       "      <th>Phone Number</th>\n",
       "      <th>REMOVE</th>\n",
       "      <th>City</th>\n",
       "      <th>Zip Code</th>\n",
       "      <th>Capacity</th>\n",
       "    </tr>\n",
       "  </thead>\n",
       "  <tbody>\n",
       "    <tr>\n",
       "      <th>0</th>\n",
       "      <td>Arden Courts of Wilmington</td>\n",
       "      <td>700 1/2 Foulk Rd.</td>\n",
       "      <td>Wilmington, DE  19803-3708</td>\n",
       "      <td>302-762-7800</td>\n",
       "      <td>State Licensed Beds: 56\\n</td>\n",
       "      <td>Wilmington</td>\n",
       "      <td>19803-3708</td>\n",
       "      <td>56</td>\n",
       "    </tr>\n",
       "    <tr>\n",
       "      <th>1</th>\n",
       "      <td>Brandywine Senior Living at Fenwick Island</td>\n",
       "      <td>21111 Arrington Drive</td>\n",
       "      <td>Selbyville, DE  19975</td>\n",
       "      <td>302-436-0808</td>\n",
       "      <td>State Licensed Beds: 125\\n</td>\n",
       "      <td>Selbyville</td>\n",
       "      <td>19975</td>\n",
       "      <td>125</td>\n",
       "    </tr>\n",
       "    <tr>\n",
       "      <th>2</th>\n",
       "      <td>Brandywine Senior Living at Seaside Pointe</td>\n",
       "      <td>36101 Seaside Blvd.</td>\n",
       "      <td>Rehoboth Beach, DE  19971-1189</td>\n",
       "      <td>302-226-8750</td>\n",
       "      <td>State Licensed Beds: 150\\n</td>\n",
       "      <td>Rehoboth Beach</td>\n",
       "      <td>19971-1189</td>\n",
       "      <td>150</td>\n",
       "    </tr>\n",
       "    <tr>\n",
       "      <th>3</th>\n",
       "      <td>Brookdale Dover</td>\n",
       "      <td>150 Saulsbury Road</td>\n",
       "      <td>Dover, DE  19904-2776</td>\n",
       "      <td>302-674-4407</td>\n",
       "      <td>State Licensed Beds: 96\\n</td>\n",
       "      <td>Dover</td>\n",
       "      <td>19904-2776</td>\n",
       "      <td>96</td>\n",
       "    </tr>\n",
       "    <tr>\n",
       "      <th>4</th>\n",
       "      <td>Brookdale Hockessin</td>\n",
       "      <td>6677 Lancaster Pike</td>\n",
       "      <td>Hockessin, DE  19707-9503</td>\n",
       "      <td>302-239-3200</td>\n",
       "      <td>State Licensed Beds: 66\\n</td>\n",
       "      <td>Hockessin</td>\n",
       "      <td>19707-9503</td>\n",
       "      <td>66</td>\n",
       "    </tr>\n",
       "  </tbody>\n",
       "</table>\n",
       "</div>"
      ],
      "text/plain": [
       "                                Facility Name                Address  \\\n",
       "0                  Arden Courts of Wilmington      700 1/2 Foulk Rd.   \n",
       "1  Brandywine Senior Living at Fenwick Island  21111 Arrington Drive   \n",
       "2  Brandywine Senior Living at Seaside Pointe    36101 Seaside Blvd.   \n",
       "3                             Brookdale Dover     150 Saulsbury Road   \n",
       "4                         Brookdale Hockessin    6677 Lancaster Pike   \n",
       "\n",
       "                           REMOVE  Phone Number                      REMOVE  \\\n",
       "0      Wilmington, DE  19803-3708  302-762-7800   State Licensed Beds: 56\\n   \n",
       "1           Selbyville, DE  19975  302-436-0808  State Licensed Beds: 125\\n   \n",
       "2  Rehoboth Beach, DE  19971-1189  302-226-8750  State Licensed Beds: 150\\n   \n",
       "3           Dover, DE  19904-2776  302-674-4407   State Licensed Beds: 96\\n   \n",
       "4       Hockessin, DE  19707-9503  302-239-3200   State Licensed Beds: 66\\n   \n",
       "\n",
       "             City    Zip Code  Capacity  \n",
       "0      Wilmington  19803-3708        56  \n",
       "1      Selbyville       19975       125  \n",
       "2  Rehoboth Beach  19971-1189       150  \n",
       "3           Dover  19904-2776        96  \n",
       "4       Hockessin  19707-9503        66  "
      ]
     },
     "metadata": {},
     "execution_count": 214
    }
   ],
   "metadata": {}
  },
  {
   "cell_type": "code",
   "execution_count": 215,
   "source": [
    "df_de.drop(columns='REMOVE', inplace=True)\n",
    "df_de['Date Accessed'] = '6/24/21'\n",
    "df_de['State Facility Type 1 Literal'] = 'assisted living facility'\n",
    "cleaner(df_de, 'DE')"
   ],
   "outputs": [
    {
     "output_type": "stream",
     "name": "stdout",
     "text": [
      "Extraneous columns are:\n",
      "[]\n",
      "No License Number of Facility ID\n"
     ]
    }
   ],
   "metadata": {}
  },
  {
   "cell_type": "code",
   "execution_count": 216,
   "source": [
    "df_de.head()"
   ],
   "outputs": [
    {
     "output_type": "execute_result",
     "data": {
      "text/html": [
       "<div>\n",
       "<style scoped>\n",
       "    .dataframe tbody tr th:only-of-type {\n",
       "        vertical-align: middle;\n",
       "    }\n",
       "\n",
       "    .dataframe tbody tr th {\n",
       "        vertical-align: top;\n",
       "    }\n",
       "\n",
       "    .dataframe thead th {\n",
       "        text-align: right;\n",
       "    }\n",
       "</style>\n",
       "<table border=\"1\" class=\"dataframe\">\n",
       "  <thead>\n",
       "    <tr style=\"text-align: right;\">\n",
       "      <th></th>\n",
       "      <th>Facility Name</th>\n",
       "      <th>Address</th>\n",
       "      <th>Phone Number</th>\n",
       "      <th>City</th>\n",
       "      <th>Zip Code</th>\n",
       "      <th>Capacity</th>\n",
       "      <th>Date Accessed</th>\n",
       "      <th>State Facility Type 1 Literal</th>\n",
       "      <th>State</th>\n",
       "    </tr>\n",
       "  </thead>\n",
       "  <tbody>\n",
       "    <tr>\n",
       "      <th>0</th>\n",
       "      <td>Arden Courts Of Wilmington</td>\n",
       "      <td>700 1/2 FOULK RD.</td>\n",
       "      <td>302-762-7800</td>\n",
       "      <td>Wilmington</td>\n",
       "      <td>19803-3708</td>\n",
       "      <td>56</td>\n",
       "      <td>6/24/21</td>\n",
       "      <td>ASSISTED LIVING FACILITY</td>\n",
       "      <td>DE</td>\n",
       "    </tr>\n",
       "    <tr>\n",
       "      <th>1</th>\n",
       "      <td>Brandywine Senior Living At Fenwick Island</td>\n",
       "      <td>21111 ARRINGTON DRIVE</td>\n",
       "      <td>302-436-0808</td>\n",
       "      <td>Selbyville</td>\n",
       "      <td>19975</td>\n",
       "      <td>125</td>\n",
       "      <td>6/24/21</td>\n",
       "      <td>ASSISTED LIVING FACILITY</td>\n",
       "      <td>DE</td>\n",
       "    </tr>\n",
       "    <tr>\n",
       "      <th>2</th>\n",
       "      <td>Brandywine Senior Living At Seaside Pointe</td>\n",
       "      <td>36101 SEASIDE BLVD.</td>\n",
       "      <td>302-226-8750</td>\n",
       "      <td>Rehoboth Beach</td>\n",
       "      <td>19971-1189</td>\n",
       "      <td>150</td>\n",
       "      <td>6/24/21</td>\n",
       "      <td>ASSISTED LIVING FACILITY</td>\n",
       "      <td>DE</td>\n",
       "    </tr>\n",
       "    <tr>\n",
       "      <th>3</th>\n",
       "      <td>Brookdale Dover</td>\n",
       "      <td>150 SAULSBURY ROAD</td>\n",
       "      <td>302-674-4407</td>\n",
       "      <td>Dover</td>\n",
       "      <td>19904-2776</td>\n",
       "      <td>96</td>\n",
       "      <td>6/24/21</td>\n",
       "      <td>ASSISTED LIVING FACILITY</td>\n",
       "      <td>DE</td>\n",
       "    </tr>\n",
       "    <tr>\n",
       "      <th>4</th>\n",
       "      <td>Brookdale Hockessin</td>\n",
       "      <td>6677 LANCASTER PIKE</td>\n",
       "      <td>302-239-3200</td>\n",
       "      <td>Hockessin</td>\n",
       "      <td>19707-9503</td>\n",
       "      <td>66</td>\n",
       "      <td>6/24/21</td>\n",
       "      <td>ASSISTED LIVING FACILITY</td>\n",
       "      <td>DE</td>\n",
       "    </tr>\n",
       "  </tbody>\n",
       "</table>\n",
       "</div>"
      ],
      "text/plain": [
       "                                Facility Name                Address  \\\n",
       "0                  Arden Courts Of Wilmington      700 1/2 FOULK RD.   \n",
       "1  Brandywine Senior Living At Fenwick Island  21111 ARRINGTON DRIVE   \n",
       "2  Brandywine Senior Living At Seaside Pointe    36101 SEASIDE BLVD.   \n",
       "3                             Brookdale Dover     150 SAULSBURY ROAD   \n",
       "4                         Brookdale Hockessin    6677 LANCASTER PIKE   \n",
       "\n",
       "   Phone Number            City    Zip Code  Capacity Date Accessed  \\\n",
       "0  302-762-7800      Wilmington  19803-3708        56       6/24/21   \n",
       "1  302-436-0808      Selbyville       19975       125       6/24/21   \n",
       "2  302-226-8750  Rehoboth Beach  19971-1189       150       6/24/21   \n",
       "3  302-674-4407           Dover  19904-2776        96       6/24/21   \n",
       "4  302-239-3200       Hockessin  19707-9503        66       6/24/21   \n",
       "\n",
       "  State Facility Type 1 Literal State  \n",
       "0      ASSISTED LIVING FACILITY    DE  \n",
       "1      ASSISTED LIVING FACILITY    DE  \n",
       "2      ASSISTED LIVING FACILITY    DE  \n",
       "3      ASSISTED LIVING FACILITY    DE  \n",
       "4      ASSISTED LIVING FACILITY    DE  "
      ]
     },
     "metadata": {},
     "execution_count": 216
    }
   ],
   "metadata": {}
  },
  {
   "cell_type": "code",
   "execution_count": 217,
   "source": [
    "df_de.to_csv('alf-datasets/de/de-alf-final.csv', index=False)"
   ],
   "outputs": [],
   "metadata": {}
  },
  {
   "cell_type": "markdown",
   "source": [
    "## New Mexico"
   ],
   "metadata": {}
  },
  {
   "cell_type": "code",
   "execution_count": 280,
   "source": [
    "! ls alf-datasets/nm"
   ],
   "outputs": [
    {
     "output_type": "stream",
     "name": "stdout",
     "text": [
      "nm-alf.html\n"
     ]
    }
   ],
   "metadata": {}
  },
  {
   "cell_type": "code",
   "execution_count": 281,
   "source": [
    "soup = BeautifulSoup(open('alf-datasets/nm/nm-alf.html', 'r').read(), 'html.parser')"
   ],
   "outputs": [],
   "metadata": {}
  },
  {
   "cell_type": "code",
   "execution_count": 282,
   "source": [
    "# finding the first ALF to see what HTML looks like\n",
    "# soup.prettify().find('The Village At Alameda')"
   ],
   "outputs": [],
   "metadata": {}
  },
  {
   "cell_type": "code",
   "execution_count": 283,
   "source": [
    "# checking out what the HTML looks like to see what we should search for\n",
    "# print(soup.prettify()[31000:33000])"
   ],
   "outputs": [],
   "metadata": {}
  },
  {
   "cell_type": "code",
   "execution_count": 284,
   "source": [
    "# this is what we're looking for: <table bgcolor=\"#EEEEEE\" width=\"586\">\n",
    "soup_list = soup.find('table', {'bgcolor':'#EEEEEE', 'width':'586'}).find_all('td', {'class':'H12_violet_leftn'})\n",
    "soup_list = [unicodedata.normalize('NFKD', stuff.text) for stuff in soup_list]\n",
    "\n",
    "df_nm = pd.DataFrame(np.reshape(soup_list, (-1, 11)))"
   ],
   "outputs": [],
   "metadata": {}
  },
  {
   "cell_type": "code",
   "execution_count": 286,
   "source": [
    "df_nm.head()"
   ],
   "outputs": [
    {
     "output_type": "execute_result",
     "data": {
      "text/html": [
       "<div>\n",
       "<style scoped>\n",
       "    .dataframe tbody tr th:only-of-type {\n",
       "        vertical-align: middle;\n",
       "    }\n",
       "\n",
       "    .dataframe tbody tr th {\n",
       "        vertical-align: top;\n",
       "    }\n",
       "\n",
       "    .dataframe thead th {\n",
       "        text-align: right;\n",
       "    }\n",
       "</style>\n",
       "<table border=\"1\" class=\"dataframe\">\n",
       "  <thead>\n",
       "    <tr style=\"text-align: right;\">\n",
       "      <th></th>\n",
       "      <th>0</th>\n",
       "      <th>1</th>\n",
       "      <th>2</th>\n",
       "      <th>3</th>\n",
       "      <th>4</th>\n",
       "      <th>5</th>\n",
       "      <th>6</th>\n",
       "      <th>7</th>\n",
       "      <th>8</th>\n",
       "      <th>9</th>\n",
       "      <th>10</th>\n",
       "    </tr>\n",
       "  </thead>\n",
       "  <tbody>\n",
       "    <tr>\n",
       "      <th>0</th>\n",
       "      <td>The Village At Alameda</td>\n",
       "      <td>8810 HORIZON BOULEVARD NE</td>\n",
       "      <td>ALBUQUERQUE  NM  87113</td>\n",
       "      <td>(505) 857-7000  Fax: (505) 857-9210</td>\n",
       "      <td></td>\n",
       "      <td></td>\n",
       "      <td>2244</td>\n",
       "      <td>12/31/2021</td>\n",
       "      <td>MONICA COLLINS</td>\n",
       "      <td>ALBUQUERQUE OPERATING COMPANY LLC</td>\n",
       "      <td>86</td>\n",
       "    </tr>\n",
       "    <tr>\n",
       "      <th>1</th>\n",
       "      <td>A LOVE FOR LIFE, LLC</td>\n",
       "      <td>7534 BEAR CANYON ROAD NE</td>\n",
       "      <td>ALBUQUERQUE  NM  87109</td>\n",
       "      <td>(505) 350-2563  Fax: (505) 884-1848</td>\n",
       "      <td></td>\n",
       "      <td></td>\n",
       "      <td>2188</td>\n",
       "      <td>07/31/2021</td>\n",
       "      <td>ROANN SEXSON</td>\n",
       "      <td>A LOVE FOR LIFE, LLC</td>\n",
       "      <td>10</td>\n",
       "    </tr>\n",
       "    <tr>\n",
       "      <th>2</th>\n",
       "      <td>A Love For Life, Llc</td>\n",
       "      <td>4108 ALCAZAR NE</td>\n",
       "      <td>ALBUQUERQUE  NM  87109</td>\n",
       "      <td>(505) 884-3912  Fax: (505) 884-1848</td>\n",
       "      <td></td>\n",
       "      <td></td>\n",
       "      <td>2278</td>\n",
       "      <td>05/31/2022</td>\n",
       "      <td>ROANN SEXSON</td>\n",
       "      <td>A LOVE FOR LIFE, LLC</td>\n",
       "      <td>15</td>\n",
       "    </tr>\n",
       "    <tr>\n",
       "      <th>3</th>\n",
       "      <td>A NEW DAY</td>\n",
       "      <td>11212 MIRAVISTA PLACE SE</td>\n",
       "      <td>ALBUQUERQUE  NM  87123</td>\n",
       "      <td>(505) 263-0480  Fax: (   )    -</td>\n",
       "      <td></td>\n",
       "      <td></td>\n",
       "      <td>2126</td>\n",
       "      <td>08/31/2021</td>\n",
       "      <td>ATENOGENES VAZQUEZ</td>\n",
       "      <td>ATENOGENES VAZQUEZ</td>\n",
       "      <td>3</td>\n",
       "    </tr>\n",
       "    <tr>\n",
       "      <th>4</th>\n",
       "      <td>A New Day Assisted Living #2</td>\n",
       "      <td>11208 MIRA VISTA PLACE SE</td>\n",
       "      <td>ALBUQUERQUE  NM  87123</td>\n",
       "      <td>(505) 373-9285  Fax: (   )    -</td>\n",
       "      <td></td>\n",
       "      <td></td>\n",
       "      <td>2277</td>\n",
       "      <td>05/31/2022</td>\n",
       "      <td>ATENOGENES VAZQUEZ</td>\n",
       "      <td>ATENOGENES VAZQUEZ</td>\n",
       "      <td>3</td>\n",
       "    </tr>\n",
       "  </tbody>\n",
       "</table>\n",
       "</div>"
      ],
      "text/plain": [
       "                             0                          1   \\\n",
       "0        The Village At Alameda  8810 HORIZON BOULEVARD NE   \n",
       "1          A LOVE FOR LIFE, LLC   7534 BEAR CANYON ROAD NE   \n",
       "2          A Love For Life, Llc            4108 ALCAZAR NE   \n",
       "3                     A NEW DAY   11212 MIRAVISTA PLACE SE   \n",
       "4  A New Day Assisted Living #2  11208 MIRA VISTA PLACE SE   \n",
       "\n",
       "                       2                                    3    4    5   \\\n",
       "0  ALBUQUERQUE  NM  87113  (505) 857-7000  Fax: (505) 857-9210             \n",
       "1  ALBUQUERQUE  NM  87109  (505) 350-2563  Fax: (505) 884-1848             \n",
       "2  ALBUQUERQUE  NM  87109  (505) 884-3912  Fax: (505) 884-1848             \n",
       "3  ALBUQUERQUE  NM  87123  (505) 263-0480  Fax: (   )    -                 \n",
       "4  ALBUQUERQUE  NM  87123  (505) 373-9285  Fax: (   )    -                 \n",
       "\n",
       "        6           7                   8                                  9   \\\n",
       "0  2244     12/31/2021      MONICA COLLINS  ALBUQUERQUE OPERATING COMPANY LLC   \n",
       "1  2188     07/31/2021        ROANN SEXSON               A LOVE FOR LIFE, LLC   \n",
       "2  2278     05/31/2022        ROANN SEXSON               A LOVE FOR LIFE, LLC   \n",
       "3  2126     08/31/2021  ATENOGENES VAZQUEZ                 ATENOGENES VAZQUEZ   \n",
       "4  2277     05/31/2022  ATENOGENES VAZQUEZ                 ATENOGENES VAZQUEZ   \n",
       "\n",
       "   10  \n",
       "0  86  \n",
       "1  10  \n",
       "2  15  \n",
       "3   3  \n",
       "4   3  "
      ]
     },
     "metadata": {},
     "execution_count": 286
    }
   ],
   "metadata": {}
  },
  {
   "cell_type": "code",
   "execution_count": 311,
   "source": [
    "df_nm['City'] = df_nm[2].str.split(' ', expand=True)[0]\n",
    "df_nm['Zip Code'] = df_nm[2].str.split(' ', expand=True)[4]\n",
    "df_nm['Phone Number'] = df_nm[3].str.split('Fax:', expand=True)[0]\n",
    "df_nm['Capacity'] = pd.to_numeric(df_nm[10], errors='coerce')"
   ],
   "outputs": [],
   "metadata": {}
  },
  {
   "cell_type": "code",
   "execution_count": 312,
   "source": [
    "df_nm.head()"
   ],
   "outputs": [
    {
     "output_type": "execute_result",
     "data": {
      "text/html": [
       "<div>\n",
       "<style scoped>\n",
       "    .dataframe tbody tr th:only-of-type {\n",
       "        vertical-align: middle;\n",
       "    }\n",
       "\n",
       "    .dataframe tbody tr th {\n",
       "        vertical-align: top;\n",
       "    }\n",
       "\n",
       "    .dataframe thead th {\n",
       "        text-align: right;\n",
       "    }\n",
       "</style>\n",
       "<table border=\"1\" class=\"dataframe\">\n",
       "  <thead>\n",
       "    <tr style=\"text-align: right;\">\n",
       "      <th></th>\n",
       "      <th>0</th>\n",
       "      <th>1</th>\n",
       "      <th>2</th>\n",
       "      <th>3</th>\n",
       "      <th>4</th>\n",
       "      <th>5</th>\n",
       "      <th>6</th>\n",
       "      <th>7</th>\n",
       "      <th>8</th>\n",
       "      <th>9</th>\n",
       "      <th>10</th>\n",
       "      <th>City</th>\n",
       "      <th>Zip Code</th>\n",
       "      <th>Phone Number</th>\n",
       "      <th>Capacity</th>\n",
       "    </tr>\n",
       "  </thead>\n",
       "  <tbody>\n",
       "    <tr>\n",
       "      <th>0</th>\n",
       "      <td>The Village At Alameda</td>\n",
       "      <td>8810 HORIZON BOULEVARD NE</td>\n",
       "      <td>ALBUQUERQUE  NM  87113</td>\n",
       "      <td>(505) 857-7000  Fax: (505) 857-9210</td>\n",
       "      <td></td>\n",
       "      <td></td>\n",
       "      <td>2244</td>\n",
       "      <td>12/31/2021</td>\n",
       "      <td>MONICA COLLINS</td>\n",
       "      <td>ALBUQUERQUE OPERATING COMPANY LLC</td>\n",
       "      <td>86</td>\n",
       "      <td>ALBUQUERQUE</td>\n",
       "      <td>87113</td>\n",
       "      <td>(505) 857-7000</td>\n",
       "      <td>86.0</td>\n",
       "    </tr>\n",
       "    <tr>\n",
       "      <th>1</th>\n",
       "      <td>A LOVE FOR LIFE, LLC</td>\n",
       "      <td>7534 BEAR CANYON ROAD NE</td>\n",
       "      <td>ALBUQUERQUE  NM  87109</td>\n",
       "      <td>(505) 350-2563  Fax: (505) 884-1848</td>\n",
       "      <td></td>\n",
       "      <td></td>\n",
       "      <td>2188</td>\n",
       "      <td>07/31/2021</td>\n",
       "      <td>ROANN SEXSON</td>\n",
       "      <td>A LOVE FOR LIFE, LLC</td>\n",
       "      <td>10</td>\n",
       "      <td>ALBUQUERQUE</td>\n",
       "      <td>87109</td>\n",
       "      <td>(505) 350-2563</td>\n",
       "      <td>10.0</td>\n",
       "    </tr>\n",
       "    <tr>\n",
       "      <th>2</th>\n",
       "      <td>A Love For Life, Llc</td>\n",
       "      <td>4108 ALCAZAR NE</td>\n",
       "      <td>ALBUQUERQUE  NM  87109</td>\n",
       "      <td>(505) 884-3912  Fax: (505) 884-1848</td>\n",
       "      <td></td>\n",
       "      <td></td>\n",
       "      <td>2278</td>\n",
       "      <td>05/31/2022</td>\n",
       "      <td>ROANN SEXSON</td>\n",
       "      <td>A LOVE FOR LIFE, LLC</td>\n",
       "      <td>15</td>\n",
       "      <td>ALBUQUERQUE</td>\n",
       "      <td>87109</td>\n",
       "      <td>(505) 884-3912</td>\n",
       "      <td>15.0</td>\n",
       "    </tr>\n",
       "    <tr>\n",
       "      <th>3</th>\n",
       "      <td>A NEW DAY</td>\n",
       "      <td>11212 MIRAVISTA PLACE SE</td>\n",
       "      <td>ALBUQUERQUE  NM  87123</td>\n",
       "      <td>(505) 263-0480  Fax: (   )    -</td>\n",
       "      <td></td>\n",
       "      <td></td>\n",
       "      <td>2126</td>\n",
       "      <td>08/31/2021</td>\n",
       "      <td>ATENOGENES VAZQUEZ</td>\n",
       "      <td>ATENOGENES VAZQUEZ</td>\n",
       "      <td>3</td>\n",
       "      <td>ALBUQUERQUE</td>\n",
       "      <td>87123</td>\n",
       "      <td>(505) 263-0480</td>\n",
       "      <td>3.0</td>\n",
       "    </tr>\n",
       "    <tr>\n",
       "      <th>4</th>\n",
       "      <td>A New Day Assisted Living #2</td>\n",
       "      <td>11208 MIRA VISTA PLACE SE</td>\n",
       "      <td>ALBUQUERQUE  NM  87123</td>\n",
       "      <td>(505) 373-9285  Fax: (   )    -</td>\n",
       "      <td></td>\n",
       "      <td></td>\n",
       "      <td>2277</td>\n",
       "      <td>05/31/2022</td>\n",
       "      <td>ATENOGENES VAZQUEZ</td>\n",
       "      <td>ATENOGENES VAZQUEZ</td>\n",
       "      <td>3</td>\n",
       "      <td>ALBUQUERQUE</td>\n",
       "      <td>87123</td>\n",
       "      <td>(505) 373-9285</td>\n",
       "      <td>3.0</td>\n",
       "    </tr>\n",
       "  </tbody>\n",
       "</table>\n",
       "</div>"
      ],
      "text/plain": [
       "                              0                          1  \\\n",
       "0        The Village At Alameda  8810 HORIZON BOULEVARD NE   \n",
       "1          A LOVE FOR LIFE, LLC   7534 BEAR CANYON ROAD NE   \n",
       "2          A Love For Life, Llc            4108 ALCAZAR NE   \n",
       "3                     A NEW DAY   11212 MIRAVISTA PLACE SE   \n",
       "4  A New Day Assisted Living #2  11208 MIRA VISTA PLACE SE   \n",
       "\n",
       "                        2                                    3    4    5  \\\n",
       "0  ALBUQUERQUE  NM  87113  (505) 857-7000  Fax: (505) 857-9210             \n",
       "1  ALBUQUERQUE  NM  87109  (505) 350-2563  Fax: (505) 884-1848             \n",
       "2  ALBUQUERQUE  NM  87109  (505) 884-3912  Fax: (505) 884-1848             \n",
       "3  ALBUQUERQUE  NM  87123  (505) 263-0480  Fax: (   )    -                 \n",
       "4  ALBUQUERQUE  NM  87123  (505) 373-9285  Fax: (   )    -                 \n",
       "\n",
       "         6           7                   8                                  9  \\\n",
       "0  2244     12/31/2021      MONICA COLLINS  ALBUQUERQUE OPERATING COMPANY LLC   \n",
       "1  2188     07/31/2021        ROANN SEXSON               A LOVE FOR LIFE, LLC   \n",
       "2  2278     05/31/2022        ROANN SEXSON               A LOVE FOR LIFE, LLC   \n",
       "3  2126     08/31/2021  ATENOGENES VAZQUEZ                 ATENOGENES VAZQUEZ   \n",
       "4  2277     05/31/2022  ATENOGENES VAZQUEZ                 ATENOGENES VAZQUEZ   \n",
       "\n",
       "   10         City Zip Code      Phone Number  Capacity  \n",
       "0  86  ALBUQUERQUE    87113  (505) 857-7000        86.0  \n",
       "1  10  ALBUQUERQUE    87109  (505) 350-2563        10.0  \n",
       "2  15  ALBUQUERQUE    87109  (505) 884-3912        15.0  \n",
       "3   3  ALBUQUERQUE    87123  (505) 263-0480         3.0  \n",
       "4   3  ALBUQUERQUE    87123  (505) 373-9285         3.0  "
      ]
     },
     "metadata": {},
     "execution_count": 312
    }
   ],
   "metadata": {}
  },
  {
   "cell_type": "code",
   "execution_count": 313,
   "source": [
    "df_nm.columns = ['Facility Name', 'Address', 'REMOVE', 'REMOVE', 'REMOVE', 'REMOVE', 'License Number', 'REMOVE', 'REMOVE', 'Licensee', 'REMOVE', 'City', 'Zip Code', 'Phone Number', 'Capacity' ]"
   ],
   "outputs": [],
   "metadata": {}
  },
  {
   "cell_type": "code",
   "execution_count": 315,
   "source": [
    "df_nm.drop(columns='REMOVE', inplace=True)\n",
    "df_nm.head()"
   ],
   "outputs": [
    {
     "output_type": "execute_result",
     "data": {
      "text/html": [
       "<div>\n",
       "<style scoped>\n",
       "    .dataframe tbody tr th:only-of-type {\n",
       "        vertical-align: middle;\n",
       "    }\n",
       "\n",
       "    .dataframe tbody tr th {\n",
       "        vertical-align: top;\n",
       "    }\n",
       "\n",
       "    .dataframe thead th {\n",
       "        text-align: right;\n",
       "    }\n",
       "</style>\n",
       "<table border=\"1\" class=\"dataframe\">\n",
       "  <thead>\n",
       "    <tr style=\"text-align: right;\">\n",
       "      <th></th>\n",
       "      <th>Facility Name</th>\n",
       "      <th>Address</th>\n",
       "      <th>License Number</th>\n",
       "      <th>Licensee</th>\n",
       "      <th>City</th>\n",
       "      <th>Zip Code</th>\n",
       "      <th>Phone Number</th>\n",
       "      <th>Capacity</th>\n",
       "    </tr>\n",
       "  </thead>\n",
       "  <tbody>\n",
       "    <tr>\n",
       "      <th>0</th>\n",
       "      <td>The Village At Alameda</td>\n",
       "      <td>8810 HORIZON BOULEVARD NE</td>\n",
       "      <td>2244</td>\n",
       "      <td>ALBUQUERQUE OPERATING COMPANY LLC</td>\n",
       "      <td>ALBUQUERQUE</td>\n",
       "      <td>87113</td>\n",
       "      <td>(505) 857-7000</td>\n",
       "      <td>86.0</td>\n",
       "    </tr>\n",
       "    <tr>\n",
       "      <th>1</th>\n",
       "      <td>A LOVE FOR LIFE, LLC</td>\n",
       "      <td>7534 BEAR CANYON ROAD NE</td>\n",
       "      <td>2188</td>\n",
       "      <td>A LOVE FOR LIFE, LLC</td>\n",
       "      <td>ALBUQUERQUE</td>\n",
       "      <td>87109</td>\n",
       "      <td>(505) 350-2563</td>\n",
       "      <td>10.0</td>\n",
       "    </tr>\n",
       "    <tr>\n",
       "      <th>2</th>\n",
       "      <td>A Love For Life, Llc</td>\n",
       "      <td>4108 ALCAZAR NE</td>\n",
       "      <td>2278</td>\n",
       "      <td>A LOVE FOR LIFE, LLC</td>\n",
       "      <td>ALBUQUERQUE</td>\n",
       "      <td>87109</td>\n",
       "      <td>(505) 884-3912</td>\n",
       "      <td>15.0</td>\n",
       "    </tr>\n",
       "    <tr>\n",
       "      <th>3</th>\n",
       "      <td>A NEW DAY</td>\n",
       "      <td>11212 MIRAVISTA PLACE SE</td>\n",
       "      <td>2126</td>\n",
       "      <td>ATENOGENES VAZQUEZ</td>\n",
       "      <td>ALBUQUERQUE</td>\n",
       "      <td>87123</td>\n",
       "      <td>(505) 263-0480</td>\n",
       "      <td>3.0</td>\n",
       "    </tr>\n",
       "    <tr>\n",
       "      <th>4</th>\n",
       "      <td>A New Day Assisted Living #2</td>\n",
       "      <td>11208 MIRA VISTA PLACE SE</td>\n",
       "      <td>2277</td>\n",
       "      <td>ATENOGENES VAZQUEZ</td>\n",
       "      <td>ALBUQUERQUE</td>\n",
       "      <td>87123</td>\n",
       "      <td>(505) 373-9285</td>\n",
       "      <td>3.0</td>\n",
       "    </tr>\n",
       "  </tbody>\n",
       "</table>\n",
       "</div>"
      ],
      "text/plain": [
       "                  Facility Name                    Address License Number  \\\n",
       "0        The Village At Alameda  8810 HORIZON BOULEVARD NE        2244      \n",
       "1          A LOVE FOR LIFE, LLC   7534 BEAR CANYON ROAD NE        2188      \n",
       "2          A Love For Life, Llc            4108 ALCAZAR NE        2278      \n",
       "3                     A NEW DAY   11212 MIRAVISTA PLACE SE        2126      \n",
       "4  A New Day Assisted Living #2  11208 MIRA VISTA PLACE SE        2277      \n",
       "\n",
       "                            Licensee         City Zip Code      Phone Number  \\\n",
       "0  ALBUQUERQUE OPERATING COMPANY LLC  ALBUQUERQUE    87113  (505) 857-7000     \n",
       "1               A LOVE FOR LIFE, LLC  ALBUQUERQUE    87109  (505) 350-2563     \n",
       "2               A LOVE FOR LIFE, LLC  ALBUQUERQUE    87109  (505) 884-3912     \n",
       "3                 ATENOGENES VAZQUEZ  ALBUQUERQUE    87123  (505) 263-0480     \n",
       "4                 ATENOGENES VAZQUEZ  ALBUQUERQUE    87123  (505) 373-9285     \n",
       "\n",
       "   Capacity  \n",
       "0      86.0  \n",
       "1      10.0  \n",
       "2      15.0  \n",
       "3       3.0  \n",
       "4       3.0  "
      ]
     },
     "metadata": {},
     "execution_count": 315
    }
   ],
   "metadata": {}
  },
  {
   "cell_type": "code",
   "execution_count": 316,
   "source": [
    "df_nm['Date Accessed'] = '6/29/21'\n",
    "cleaner(df_nm, 'NM')"
   ],
   "outputs": [
    {
     "output_type": "stream",
     "name": "stdout",
     "text": [
      "Extraneous columns are:\n",
      "[]\n",
      "250 ALFs, 250 unique License Numbers, 0 NA License Numbers\n"
     ]
    }
   ],
   "metadata": {}
  },
  {
   "cell_type": "code",
   "execution_count": 317,
   "source": [
    "df_nm.head()"
   ],
   "outputs": [
    {
     "output_type": "execute_result",
     "data": {
      "text/html": [
       "<div>\n",
       "<style scoped>\n",
       "    .dataframe tbody tr th:only-of-type {\n",
       "        vertical-align: middle;\n",
       "    }\n",
       "\n",
       "    .dataframe tbody tr th {\n",
       "        vertical-align: top;\n",
       "    }\n",
       "\n",
       "    .dataframe thead th {\n",
       "        text-align: right;\n",
       "    }\n",
       "</style>\n",
       "<table border=\"1\" class=\"dataframe\">\n",
       "  <thead>\n",
       "    <tr style=\"text-align: right;\">\n",
       "      <th></th>\n",
       "      <th>Facility Name</th>\n",
       "      <th>Address</th>\n",
       "      <th>License Number</th>\n",
       "      <th>Licensee</th>\n",
       "      <th>City</th>\n",
       "      <th>Zip Code</th>\n",
       "      <th>Phone Number</th>\n",
       "      <th>Capacity</th>\n",
       "      <th>Date Accessed</th>\n",
       "      <th>State</th>\n",
       "    </tr>\n",
       "  </thead>\n",
       "  <tbody>\n",
       "    <tr>\n",
       "      <th>0</th>\n",
       "      <td>The Village At Alameda</td>\n",
       "      <td>8810 HORIZON BOULEVARD NE</td>\n",
       "      <td>2244</td>\n",
       "      <td>ALBUQUERQUE OPERATING COMPANY LLC</td>\n",
       "      <td>Albuquerque</td>\n",
       "      <td>87113</td>\n",
       "      <td>(505) 857-7000</td>\n",
       "      <td>86.0</td>\n",
       "      <td>6/29/21</td>\n",
       "      <td>NM</td>\n",
       "    </tr>\n",
       "    <tr>\n",
       "      <th>1</th>\n",
       "      <td>A Love For Life, Llc</td>\n",
       "      <td>7534 BEAR CANYON ROAD NE</td>\n",
       "      <td>2188</td>\n",
       "      <td>A LOVE FOR LIFE, LLC</td>\n",
       "      <td>Albuquerque</td>\n",
       "      <td>87109</td>\n",
       "      <td>(505) 350-2563</td>\n",
       "      <td>10.0</td>\n",
       "      <td>6/29/21</td>\n",
       "      <td>NM</td>\n",
       "    </tr>\n",
       "    <tr>\n",
       "      <th>2</th>\n",
       "      <td>A Love For Life, Llc</td>\n",
       "      <td>4108 ALCAZAR NE</td>\n",
       "      <td>2278</td>\n",
       "      <td>A LOVE FOR LIFE, LLC</td>\n",
       "      <td>Albuquerque</td>\n",
       "      <td>87109</td>\n",
       "      <td>(505) 884-3912</td>\n",
       "      <td>15.0</td>\n",
       "      <td>6/29/21</td>\n",
       "      <td>NM</td>\n",
       "    </tr>\n",
       "    <tr>\n",
       "      <th>3</th>\n",
       "      <td>A New Day</td>\n",
       "      <td>11212 MIRAVISTA PLACE SE</td>\n",
       "      <td>2126</td>\n",
       "      <td>ATENOGENES VAZQUEZ</td>\n",
       "      <td>Albuquerque</td>\n",
       "      <td>87123</td>\n",
       "      <td>(505) 263-0480</td>\n",
       "      <td>3.0</td>\n",
       "      <td>6/29/21</td>\n",
       "      <td>NM</td>\n",
       "    </tr>\n",
       "    <tr>\n",
       "      <th>4</th>\n",
       "      <td>A New Day Assisted Living #2</td>\n",
       "      <td>11208 MIRA VISTA PLACE SE</td>\n",
       "      <td>2277</td>\n",
       "      <td>ATENOGENES VAZQUEZ</td>\n",
       "      <td>Albuquerque</td>\n",
       "      <td>87123</td>\n",
       "      <td>(505) 373-9285</td>\n",
       "      <td>3.0</td>\n",
       "      <td>6/29/21</td>\n",
       "      <td>NM</td>\n",
       "    </tr>\n",
       "  </tbody>\n",
       "</table>\n",
       "</div>"
      ],
      "text/plain": [
       "                  Facility Name                    Address License Number  \\\n",
       "0        The Village At Alameda  8810 HORIZON BOULEVARD NE        2244      \n",
       "1          A Love For Life, Llc   7534 BEAR CANYON ROAD NE        2188      \n",
       "2          A Love For Life, Llc            4108 ALCAZAR NE        2278      \n",
       "3                     A New Day   11212 MIRAVISTA PLACE SE        2126      \n",
       "4  A New Day Assisted Living #2  11208 MIRA VISTA PLACE SE        2277      \n",
       "\n",
       "                            Licensee         City Zip Code      Phone Number  \\\n",
       "0  ALBUQUERQUE OPERATING COMPANY LLC  Albuquerque    87113  (505) 857-7000     \n",
       "1               A LOVE FOR LIFE, LLC  Albuquerque    87109  (505) 350-2563     \n",
       "2               A LOVE FOR LIFE, LLC  Albuquerque    87109  (505) 884-3912     \n",
       "3                 ATENOGENES VAZQUEZ  Albuquerque    87123  (505) 263-0480     \n",
       "4                 ATENOGENES VAZQUEZ  Albuquerque    87123  (505) 373-9285     \n",
       "\n",
       "   Capacity Date Accessed State  \n",
       "0      86.0       6/29/21    NM  \n",
       "1      10.0       6/29/21    NM  \n",
       "2      15.0       6/29/21    NM  \n",
       "3       3.0       6/29/21    NM  \n",
       "4       3.0       6/29/21    NM  "
      ]
     },
     "metadata": {},
     "execution_count": 317
    }
   ],
   "metadata": {}
  },
  {
   "cell_type": "code",
   "execution_count": 318,
   "source": [
    "df_nm.to_csv('alf-datasets/nm/nm-alf-final.csv', index=False)"
   ],
   "outputs": [],
   "metadata": {}
  },
  {
   "cell_type": "markdown",
   "source": [
    "## Idaho"
   ],
   "metadata": {}
  },
  {
   "cell_type": "code",
   "execution_count": 603,
   "source": [
    "! ls alf-datasets/id"
   ],
   "outputs": [
    {
     "output_type": "stream",
     "name": "stdout",
     "text": [
      "id-alf.html\n"
     ]
    }
   ],
   "metadata": {}
  },
  {
   "cell_type": "code",
   "execution_count": 604,
   "source": [
    "soup = BeautifulSoup(open('alf-datasets/id/id-alf.html', 'r').read(), 'html.parser')"
   ],
   "outputs": [],
   "metadata": {}
  },
  {
   "cell_type": "code",
   "execution_count": 605,
   "source": [
    "# finding the first ALF to see what HTML looks like\n",
    "# soup.prettify().find('Aarenbrooke Place - Cory Lane')"
   ],
   "outputs": [],
   "metadata": {}
  },
  {
   "cell_type": "code",
   "execution_count": 606,
   "source": [
    "# checking out what the HTML looks like to see what we should search for\n",
    "# print(soup.prettify()[149000:154000])"
   ],
   "outputs": [],
   "metadata": {}
  },
  {
   "cell_type": "code",
   "execution_count": 607,
   "source": [
    "# want to find item with: <table border=\"1\" cellspacing=\"0\" class=\"dg\" id=\"dg\" rules=\"all\" style=\"width:1250px;border-collapse:collapse;\">\n",
    "soup_list = soup.find('table', {'border':'1', 'cellspacing':'0', 'style':'width:1250px;border-collapse:collapse;'}).find_all('td')[10:]\n",
    "soup_list = [unicodedata.normalize('NFKD', stuff.text) for stuff in soup_list]"
   ],
   "outputs": [],
   "metadata": {}
  },
  {
   "cell_type": "code",
   "execution_count": 608,
   "source": [
    "# not divisible by 9 so we add one more item to end\n",
    "len(soup_list)"
   ],
   "outputs": [
    {
     "output_type": "execute_result",
     "data": {
      "text/plain": [
       "2447"
      ]
     },
     "metadata": {},
     "execution_count": 608
    }
   ],
   "metadata": {}
  },
  {
   "cell_type": "code",
   "execution_count": 609,
   "source": [
    "soup_list.append('filler')\n",
    "df_id = pd.DataFrame(np.reshape(soup_list, (-1, 9)))"
   ],
   "outputs": [],
   "metadata": {}
  },
  {
   "cell_type": "code",
   "execution_count": 610,
   "source": [
    "df_id.drop(columns=[5,6,7,8], inplace=True)\n",
    "df_id.columns = ['Facility Name', 'Address', 'City', 'Phone Number', 'Capacity']"
   ],
   "outputs": [],
   "metadata": {}
  },
  {
   "cell_type": "code",
   "execution_count": 613,
   "source": [
    "df_id['Date Accessed'] = '6/24/21'\n",
    "df_id['State Facility Type 1 Literal'] = 'residentialcare/assisted living facility'\n",
    "cleaner(df_id, 'ID')"
   ],
   "outputs": [
    {
     "output_type": "stream",
     "name": "stdout",
     "text": [
      "Extraneous columns are:\n",
      "[]\n",
      "No License Number of Facility ID\n"
     ]
    }
   ],
   "metadata": {}
  },
  {
   "cell_type": "code",
   "execution_count": 615,
   "source": [
    "df_id.to_csv('alf-datasets/id/id-alf-final.csv', index=False)"
   ],
   "outputs": [],
   "metadata": {}
  },
  {
   "cell_type": "markdown",
   "source": [
    "## North Carolina"
   ],
   "metadata": {}
  },
  {
   "cell_type": "code",
   "execution_count": 944,
   "source": [
    "! ls alf-datasets/nc"
   ],
   "outputs": [
    {
     "output_type": "stream",
     "name": "stdout",
     "text": [
      "nc-alf-ach-hc.csv  nc-alf-ach-raw.csv nc-alf-final.csv   nc-alf-mahs.html\n"
     ]
    }
   ],
   "metadata": {}
  },
  {
   "cell_type": "code",
   "execution_count": 945,
   "source": [
    "soup = BeautifulSoup(open('alf-datasets/nc/nc-alf-mahs.html', 'r').read(), 'html.parser')"
   ],
   "outputs": [],
   "metadata": {}
  },
  {
   "cell_type": "code",
   "execution_count": 946,
   "source": [
    "# finding the first ALF to see what HTML looks like\n",
    "soup.prettify().find('Zenith Manor')"
   ],
   "outputs": [
    {
     "output_type": "execute_result",
     "data": {
      "text/plain": [
       "8173"
      ]
     },
     "metadata": {},
     "execution_count": 946
    }
   ],
   "metadata": {}
  },
  {
   "cell_type": "code",
   "execution_count": 947,
   "source": [
    "# checking out what the HTML looks like to see what we should search for\n",
    "# print(soup.prettify()[6000:10000])"
   ],
   "outputs": [],
   "metadata": {}
  },
  {
   "cell_type": "code",
   "execution_count": 948,
   "source": [
    "# want to find all <tbody> in the HTML file, and then all <tr> in each <tbody>\n",
    "# probably better way to do this\n",
    "soup_list = soup.find_all('tbody')\n",
    "soup_list2 = [a.find_all('tr') for a in soup_list]\n",
    "soup_list3 = [item for sublist in soup_list2 for item in sublist]\n",
    "soup_list4 = [a.find_all('td') for a in soup_list3]\n",
    "\n",
    "# split each string with any number of \\n's\n",
    "# df_nc_mahs = pd.Series([unicodedata.normalize('NFKD', stuff.text) for stuff in soup_list_long_flattened]).str.split(r\"(\\n)+\", expand=True).iloc[:, [2,4,6,8,10,12,14,16,18,20]]\n",
    "df_nc_mahs = pd.DataFrame(soup_list4).applymap(lambda x: unicodedata.normalize('NFKD', x.text).strip('\\n') if x else x)"
   ],
   "outputs": [],
   "metadata": {}
  },
  {
   "cell_type": "code",
   "execution_count": 949,
   "source": [
    "# adding up 1, 2, and more than 2 bedrooms as contributing 1,2, and 3 capacity\n",
    "df_nc_mahs['Capacity'] = pd.to_numeric(df_nc_mahs[6], errors='coerce').fillna(0) + 2*pd.to_numeric(df_nc_mahs[7], errors='coerce').fillna(0) + 3*pd.to_numeric(df_nc_mahs[8], errors='coerce').fillna(0)\n",
    "\n",
    "df_nc_mahs['City'] = df_nc_mahs[2].str.split(',', expand=True)[0]\n",
    "df_nc_mahs['Zip Code'] = df_nc_mahs[2].str[-5:]\n",
    "df_nc_mahs['State'] = 'NC'\n",
    "df_nc_mahs['Date Accessed'] = '8/17/21'\n",
    "df_nc_mahs['State Facility Type 1 Literal'] = 'ASSISTED LIVING RESIDENCE'\n",
    "df_nc_mahs['State Facility Type 2 Literal'] = 'Multi-unit Assisted Housing with Services Facilities'"
   ],
   "outputs": [],
   "metadata": {}
  },
  {
   "cell_type": "code",
   "execution_count": 950,
   "source": [
    "df_nc_mahs.drop(columns=[2,4,5,6,7,8,9], inplace=True)\n",
    "df_nc_mahs.rename(columns={0:'Facility Name', 1:'Address', 3:'Phone Number'}, inplace=True)"
   ],
   "outputs": [],
   "metadata": {}
  },
  {
   "cell_type": "code",
   "execution_count": 951,
   "source": [
    "df_nc = pd.concat([df_nc_mahs, df_nc_ach], ignore_index=True)\n",
    "cleaner(df_nc, state='NC')"
   ],
   "outputs": [
    {
     "output_type": "stream",
     "name": "stdout",
     "text": [
      "Extraneous columns are:\n",
      "[]\n",
      "693 ALFs, 595 unique License Numbers, 99 NA License Numbers\n"
     ]
    }
   ],
   "metadata": {}
  },
  {
   "cell_type": "code",
   "execution_count": 953,
   "source": [
    "df_nc.to_csv('alf-datasets/nc/nc-alf-final.csv', index=False)"
   ],
   "outputs": [],
   "metadata": {}
  },
  {
   "cell_type": "code",
   "execution_count": null,
   "source": [],
   "outputs": [],
   "metadata": {}
  }
 ]
}