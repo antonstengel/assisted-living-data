{
 "metadata": {
  "language_info": {
   "codemirror_mode": {
    "name": "ipython",
    "version": 3
   },
   "file_extension": ".py",
   "mimetype": "text/x-python",
   "name": "python",
   "nbconvert_exporter": "python",
   "pygments_lexer": "ipython3",
   "version": "3.9.4"
  },
  "orig_nbformat": 4,
  "kernelspec": {
   "name": "python3",
   "display_name": "Python 3.9.4 64-bit ('geo': conda)"
  },
  "interpreter": {
   "hash": "ed3c19fb29db8502139275e8ca06ed6db1b431bdd54a2bae8f0ae0c26a8f3377"
  }
 },
 "nbformat": 4,
 "nbformat_minor": 2,
 "cells": [
  {
   "cell_type": "code",
   "execution_count": 51,
   "source": [
    "import numpy as np\n",
    "import pandas as pd\n",
    "import matplotlib.pyplot as plt"
   ],
   "outputs": [],
   "metadata": {}
  },
  {
   "cell_type": "code",
   "execution_count": 52,
   "source": [
    "# STATES CLEANED POST GETTING COORDINATES:\n",
    "cleaned_states_no_latitude = ['NH', 'AK', 'NM', 'DE', 'WY', 'MT', 'ID', 'DC', 'MS']\n",
    "# DONT ADD THESE YET AS NEED TO FIGURE OUT HOW TO GET LAT LONG STUFF FIRST\n",
    "cleaned_states = ['WI', 'WV', 'WA', 'UT', 'TX', 'TN', 'SD', 'SC', 'RI', 'PA', 'OR', 'OK', 'OH', 'NC', 'NY', 'NJ', 'NV', 'NE', 'MO', 'MN', 'MI', 'MA', 'MD', 'ME', 'LA', 'KY', 'KS', 'IA', 'IN', 'IL', 'HI', 'GA', 'FL', 'CT', 'CO', 'CA', 'AZ', 'AL', 'VT']\n",
    "all_states = [\"AL\",\"AK\",\"AZ\",\"AR\",\"CA\",\"CO\",\"CT\",\"DE\",\"DC\",\"FL\",\"GA\", \"HI\",\"ID\",\"IL\",\"IN\",\"IA\",\"KS\",\"KY\",\"LA\",\"ME\",\"MD\",\"MA\",\"MI\",\"MN\",\"MS\",\"MO\",\"MT\",\"NE\",\"NV\",\"NH\",\"NJ\",\"NM\",\"NY\",\"NC\",\"ND\", \"OH\",\"OK\",\"OR\",\"PA\",\"RI\",\"SC\",\"SD\",\"TN\",\"TX\",\"UT\",\"VT\",\"VA\",\"WA\",\"WV\",\"WI\",\"WY\"]\n",
    "not_cleaned_states = list(set(all_states)-(set(cleaned_states) | set(cleaned_states_no_latitude)))\n",
    "not_cleaned_states.sort()\n",
    "\n",
    "state_info = pd.read_pickle('../nh/data/state-data/state-info-with-extras.pkl')"
   ],
   "outputs": [],
   "metadata": {}
  },
  {
   "cell_type": "code",
   "execution_count": 53,
   "source": [
    "not_cleaned_states"
   ],
   "outputs": [
    {
     "output_type": "execute_result",
     "data": {
      "text/plain": [
       "['AR', 'ND', 'VA']"
      ]
     },
     "metadata": {},
     "execution_count": 53
    }
   ],
   "metadata": {}
  },
  {
   "cell_type": "code",
   "execution_count": 54,
   "source": [
    "# creates a dictionary of df's of each states ALFs then combines into one df\n",
    "state_dfs = {}\n",
    "for x in cleaned_states:\n",
    "    state_dfs[x] = pd.read_csv('alf-datasets/'+x+'/'+x+'-alf-final.csv')\n",
    "df = pd.concat([pd.read_csv('alf-datasets/'+x+'/'+x+'-alf-final.csv') for x in cleaned_states], ignore_index=True)"
   ],
   "outputs": [],
   "metadata": {}
  },
  {
   "cell_type": "code",
   "execution_count": 55,
   "source": [
    "print('There are {} states that we have properly formatted data for. \\n\\nBetween these {} states there are {:,} assisted living facilities in our dataset,\\nof which {:,} have labelled bed counts, or {:.2%}.\\n\\nOf the facilities with bed count information, we have a total of {:,} beds, or {:.2f} beds per facility.\\n\\nWe have county information (important for PUMA) for {:,} facilities.\\nThese are the states for which we are lacking county information:\\n{}\\nAnd these are the states for which we are lacking bed count information:\\n{}'\n",
    ".format(\n",
    "    len(cleaned_states),\n",
    "    len(cleaned_states), \n",
    "    df.shape[0],\n",
    "    df['Capacity'].notnull().sum(),\n",
    "    df['Capacity'].notnull().sum() / df.shape[0],\n",
    "    df['Capacity'].sum(),\n",
    "    df['Capacity'].sum() / df['Capacity'].notnull().sum(),\n",
    "    df['County'].notnull().sum(),\n",
    "    df[~df['County'].notnull()]['State'].unique(),\n",
    "    df[~df['Capacity'].notnull()]['State'].unique()\n",
    "    ))"
   ],
   "outputs": [
    {
     "output_type": "stream",
     "name": "stdout",
     "text": [
      "There are 39 states that we have properly formatted data for. \n",
      "\n",
      "Between these 39 states there are 41,966 assisted living facilities in our dataset,\n",
      "of which 35,669 have labelled bed counts, or 84.99%.\n",
      "\n",
      "Of the facilities with bed count information, we have a total of 1,155,904.0 beds, or 32.41 beds per facility.\n",
      "\n",
      "We have county information (important for PUMA) for 36,698 facilities.\n",
      "These are the states for which we are lacking county information:\n",
      "['RI' 'NC' 'MI' 'MA' 'ME' 'KY' 'HI' 'FL' 'CT']\n",
      "And these are the states for which we are lacking bed count information:\n",
      "['WI' 'SC' '52' 'NE' 'MN' 'LA' 'KY' 'KS' 'IN' 'HI' 'FL' 'CT' 'VT']\n"
     ]
    }
   ],
   "metadata": {}
  },
  {
   "cell_type": "code",
   "execution_count": 56,
   "source": [
    "print('Of the facilities with bed count information, there are {:.2f} beds per facility.\\n\\nUsing this number to extrapolate, we estimate that there are {:,.0f} beds accounted for in the {} states we have ALF data for.\\n\\nNow extrapolating to all 51 states (and DC), we estimate that there are {:,.0f} ALF beds, within our varying definition of ALF.'.format(\n",
    "    df['Capacity'].sum() / df['Capacity'].notnull().sum(),\n",
    "    (df['Capacity'].sum() / df['Capacity'].notnull().sum()) * df.shape[0],\n",
    "    len(cleaned_states),\n",
    "    (51 / len(cleaned_states)) * ((df['Capacity'].sum() / df['Capacity'].notnull().sum()) * df.shape[0])\n",
    "))"
   ],
   "outputs": [
    {
     "output_type": "stream",
     "name": "stdout",
     "text": [
      "Of the facilities with bed count information, there are 32.41 beds per facility.\n",
      "\n",
      "Using this number to extrapolate, we estimate that there are 1,359,967 beds accounted for in the 39 states we have ALF data for.\n",
      "\n",
      "Now extrapolating to all 51 states (and DC), we estimate that there are 1,778,419 ALF beds, within our varying definition of ALF.\n"
     ]
    }
   ],
   "metadata": {}
  },
  {
   "cell_type": "code",
   "execution_count": 57,
   "source": [
    "# df[~df['Ownership Type'].isna()]['Ownership Type'].unique()"
   ],
   "outputs": [],
   "metadata": {}
  },
  {
   "cell_type": "code",
   "execution_count": 58,
   "source": [
    "state = 'WY'\n",
    "print(df[df['State'] == state]['State Facility Type 1 Literal'].unique())\n",
    "print(df[df['State'] == state]['State Facility Type 2 Literal'].unique())"
   ],
   "outputs": [
    {
     "output_type": "stream",
     "name": "stdout",
     "text": [
      "[]\n",
      "[]\n"
     ]
    }
   ],
   "metadata": {}
  },
  {
   "cell_type": "markdown",
   "source": [
    "## Seeing how capacity distribution aligns with NCAL"
   ],
   "metadata": {}
  },
  {
   "cell_type": "code",
   "execution_count": 59,
   "source": [
    "capacities = df[~df['Capacity'].isna()]['Capacity'].values"
   ],
   "outputs": [],
   "metadata": {}
  },
  {
   "cell_type": "code",
   "execution_count": 60,
   "source": [
    "plt.hist(capacities, bins=300)\n",
    "plt.xlim([0,100])"
   ],
   "outputs": [
    {
     "output_type": "execute_result",
     "data": {
      "text/plain": [
       "(0.0, 100.0)"
      ]
     },
     "metadata": {},
     "execution_count": 60
    },
    {
     "output_type": "display_data",
     "data": {
      "image/png": "[encoded data removed]",
      "text/plain": [
       "<Figure size 432x288 with 1 Axes>"
      ]
     },
     "metadata": {
      "needs_background": "light"
     }
    }
   ],
   "metadata": {}
  },
  {
   "cell_type": "code",
   "execution_count": 61,
   "source": [
    "capacities.shape[0]"
   ],
   "outputs": [
    {
     "output_type": "execute_result",
     "data": {
      "text/plain": [
       "35669"
      ]
     },
     "metadata": {},
     "execution_count": 61
    }
   ],
   "metadata": {}
  },
  {
   "cell_type": "code",
   "execution_count": 62,
   "source": [
    "(capacities > 100).sum()"
   ],
   "outputs": [
    {
     "output_type": "execute_result",
     "data": {
      "text/plain": [
       "3076"
      ]
     },
     "metadata": {},
     "execution_count": 62
    }
   ],
   "metadata": {}
  },
  {
   "cell_type": "code",
   "execution_count": 63,
   "source": [
    "print(\"{:.2%} of facilities are tiny (1-3 beds)\\n{:.2%} of facilities are small (4-10 beds)\\n{:.2%} of facilities are medium (11-25 beds)\\n{:.2%} of facilities are large (26-100 beds)\\n{:.2%} of facilities are XL (100+ beds)\\n\".format(\n",
    "    ((capacities >= 1).sum() - (capacities >= 4).sum()) / capacities.shape[0],\n",
    "    ((capacities >= 4).sum() - (capacities >= 10).sum()) / capacities.shape[0],\n",
    "    ((capacities >= 11).sum() - (capacities >= 26).sum()) / capacities.shape[0],\n",
    "    ((capacities >= 26).sum() - (capacities >= 100).sum()) / capacities.shape[0],\n",
    "    ((capacities >= 100).sum()) / capacities.shape[0]\n",
    "))\n",
    "print('This is a similar distribution to what the NCAL says on its Facts & Figures page, which is a good indicator that our dataset is relatively accurate.')"
   ],
   "outputs": [
    {
     "output_type": "stream",
     "name": "stdout",
     "text": [
      "3.97% of facilities are tiny (1-3 beds)\n",
      "47.43% of facilities are small (4-10 beds)\n",
      "12.57% of facilities are medium (11-25 beds)\n",
      "22.32% of facilities are large (26-100 beds)\n",
      "9.42% of facilities are XL (100+ beds)\n",
      "\n",
      "This is a similar distribution to what the NCAL says on its Facts & Figures page, which is a good indicator that our dataset is relatively accurate.\n"
     ]
    }
   ],
   "metadata": {}
  },
  {
   "cell_type": "markdown",
   "source": [
    "## FIGURING OUT WHICH NEW STATES WE NEED TO GET COORDINATES FOR"
   ],
   "metadata": {}
  },
  {
   "cell_type": "code",
   "execution_count": 64,
   "source": [
    "df_with_coords = pd.read_pickle('alf-datasets/national/national-dataset-1-with-coordinates.pkl')"
   ],
   "outputs": [],
   "metadata": {}
  },
  {
   "cell_type": "code",
   "execution_count": 65,
   "source": [
    "df_with_coords.shape"
   ],
   "outputs": [
    {
     "output_type": "execute_result",
     "data": {
      "text/plain": [
       "(40508, 18)"
      ]
     },
     "metadata": {},
     "execution_count": 65
    }
   ],
   "metadata": {}
  },
  {
   "cell_type": "code",
   "execution_count": 66,
   "source": [
    "# states where we updated the information\n",
    "for state in cleaned_states:\n",
    "    if df[df['State'] == state].shape[0] != df_with_coords[df_with_coords['State'] == state].shape[0]:\n",
    "        print(state)"
   ],
   "outputs": [
    {
     "output_type": "stream",
     "name": "stdout",
     "text": [
      "WI\n",
      "OK\n",
      "NC\n",
      "MN\n",
      "KY\n",
      "KS\n",
      "IA\n",
      "HI\n"
     ]
    }
   ],
   "metadata": {}
  },
  {
   "cell_type": "code",
   "execution_count": 67,
   "source": [
    "cleaned_states_no_latitude"
   ],
   "outputs": [
    {
     "output_type": "execute_result",
     "data": {
      "text/plain": [
       "['NH', 'AK', 'NM', 'DE', 'WY', 'MT', 'ID', 'DC', 'MS']"
      ]
     },
     "metadata": {},
     "execution_count": 67
    }
   ],
   "metadata": {}
  },
  {
   "cell_type": "code",
   "execution_count": 69,
   "source": [
    "df[df['Zip Code'].isna()]['State'].unique()"
   ],
   "outputs": [
    {
     "output_type": "execute_result",
     "data": {
      "text/plain": [
       "array(['TN', 'OK', 'NC', 'NV', 'MA', 'ME', 'KS', 'FL'], dtype=object)"
      ]
     },
     "metadata": {},
     "execution_count": 69
    }
   ],
   "metadata": {}
  },
  {
   "cell_type": "code",
   "execution_count": 74,
   "source": [
    "df.shape"
   ],
   "outputs": [
    {
     "output_type": "execute_result",
     "data": {
      "text/plain": [
       "(41966, 18)"
      ]
     },
     "metadata": {},
     "execution_count": 74
    }
   ],
   "metadata": {}
  },
  {
   "cell_type": "code",
   "execution_count": null,
   "source": [
    "cleaner()"
   ],
   "outputs": [],
   "metadata": {}
  }
 ]
}